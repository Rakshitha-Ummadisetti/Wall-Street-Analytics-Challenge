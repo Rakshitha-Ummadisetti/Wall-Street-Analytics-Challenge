{
  "nbformat": 4,
  "nbformat_minor": 0,
  "metadata": {
    "colab": {
      "provenance": []
    },
    "kernelspec": {
      "name": "python3",
      "display_name": "Python 3"
    },
    "language_info": {
      "name": "python"
    },
    "widgets": {
      "application/vnd.jupyter.widget-state+json": {
        "8fe6364d9f2f4644b9c8019510735a74": {
          "model_module": "@jupyter-widgets/controls",
          "model_name": "DropdownModel",
          "model_module_version": "1.5.0",
          "state": {
            "_dom_classes": [],
            "_model_module": "@jupyter-widgets/controls",
            "_model_module_version": "1.5.0",
            "_model_name": "DropdownModel",
            "_options_labels": [
              "W1",
              "W16",
              "W3",
              "W11",
              "W13",
              "W14",
              "W15",
              "W2",
              "W20",
              "W4",
              "W5",
              "W6",
              "W9",
              "W12",
              "W17",
              "W7",
              "W8",
              "W19",
              "W10",
              "W18"
            ],
            "_view_count": null,
            "_view_module": "@jupyter-widgets/controls",
            "_view_module_version": "1.5.0",
            "_view_name": "DropdownView",
            "description": "Warehouse ID:",
            "description_tooltip": null,
            "disabled": false,
            "index": 4,
            "layout": "IPY_MODEL_9efcf4078db34cf096ed6b368b4834d7",
            "style": "IPY_MODEL_3edf1ab237c14d399d57dc51c6a6d9be"
          }
        },
        "9efcf4078db34cf096ed6b368b4834d7": {
          "model_module": "@jupyter-widgets/base",
          "model_name": "LayoutModel",
          "model_module_version": "1.2.0",
          "state": {
            "_model_module": "@jupyter-widgets/base",
            "_model_module_version": "1.2.0",
            "_model_name": "LayoutModel",
            "_view_count": null,
            "_view_module": "@jupyter-widgets/base",
            "_view_module_version": "1.2.0",
            "_view_name": "LayoutView",
            "align_content": null,
            "align_items": null,
            "align_self": null,
            "border": null,
            "bottom": null,
            "display": null,
            "flex": null,
            "flex_flow": null,
            "grid_area": null,
            "grid_auto_columns": null,
            "grid_auto_flow": null,
            "grid_auto_rows": null,
            "grid_column": null,
            "grid_gap": null,
            "grid_row": null,
            "grid_template_areas": null,
            "grid_template_columns": null,
            "grid_template_rows": null,
            "height": null,
            "justify_content": null,
            "justify_items": null,
            "left": null,
            "margin": null,
            "max_height": null,
            "max_width": null,
            "min_height": null,
            "min_width": null,
            "object_fit": null,
            "object_position": null,
            "order": null,
            "overflow": null,
            "overflow_x": null,
            "overflow_y": null,
            "padding": null,
            "right": null,
            "top": null,
            "visibility": null,
            "width": null
          }
        },
        "3edf1ab237c14d399d57dc51c6a6d9be": {
          "model_module": "@jupyter-widgets/controls",
          "model_name": "DescriptionStyleModel",
          "model_module_version": "1.5.0",
          "state": {
            "_model_module": "@jupyter-widgets/controls",
            "_model_module_version": "1.5.0",
            "_model_name": "DescriptionStyleModel",
            "_view_count": null,
            "_view_module": "@jupyter-widgets/base",
            "_view_module_version": "1.2.0",
            "_view_name": "StyleView",
            "description_width": ""
          }
        },
        "f64ea1d276834a92a7667ccd51a84893": {
          "model_module": "@jupyter-widgets/controls",
          "model_name": "DropdownModel",
          "model_module_version": "1.5.0",
          "state": {
            "_dom_classes": [],
            "_model_module": "@jupyter-widgets/controls",
            "_model_module_version": "1.5.0",
            "_model_name": "DropdownModel",
            "_options_labels": [
              "P10",
              "P15",
              "P6",
              "P18",
              "P13",
              "P19",
              "P9",
              "P2",
              "P16",
              "P17",
              "P14",
              "P4",
              "P11",
              "P7",
              "P3",
              "P12",
              "P20",
              "P5",
              "P8",
              "P1"
            ],
            "_view_count": null,
            "_view_module": "@jupyter-widgets/controls",
            "_view_module_version": "1.5.0",
            "_view_name": "DropdownView",
            "description": "Product ID:",
            "description_tooltip": null,
            "disabled": false,
            "index": 7,
            "layout": "IPY_MODEL_af4a587ee6624dc783db6d1145d845a0",
            "style": "IPY_MODEL_7892d16dc1e446d0aca41efb02595ca7"
          }
        },
        "af4a587ee6624dc783db6d1145d845a0": {
          "model_module": "@jupyter-widgets/base",
          "model_name": "LayoutModel",
          "model_module_version": "1.2.0",
          "state": {
            "_model_module": "@jupyter-widgets/base",
            "_model_module_version": "1.2.0",
            "_model_name": "LayoutModel",
            "_view_count": null,
            "_view_module": "@jupyter-widgets/base",
            "_view_module_version": "1.2.0",
            "_view_name": "LayoutView",
            "align_content": null,
            "align_items": null,
            "align_self": null,
            "border": null,
            "bottom": null,
            "display": null,
            "flex": null,
            "flex_flow": null,
            "grid_area": null,
            "grid_auto_columns": null,
            "grid_auto_flow": null,
            "grid_auto_rows": null,
            "grid_column": null,
            "grid_gap": null,
            "grid_row": null,
            "grid_template_areas": null,
            "grid_template_columns": null,
            "grid_template_rows": null,
            "height": null,
            "justify_content": null,
            "justify_items": null,
            "left": null,
            "margin": null,
            "max_height": null,
            "max_width": null,
            "min_height": null,
            "min_width": null,
            "object_fit": null,
            "object_position": null,
            "order": null,
            "overflow": null,
            "overflow_x": null,
            "overflow_y": null,
            "padding": null,
            "right": null,
            "top": null,
            "visibility": null,
            "width": null
          }
        },
        "7892d16dc1e446d0aca41efb02595ca7": {
          "model_module": "@jupyter-widgets/controls",
          "model_name": "DescriptionStyleModel",
          "model_module_version": "1.5.0",
          "state": {
            "_model_module": "@jupyter-widgets/controls",
            "_model_module_version": "1.5.0",
            "_model_name": "DescriptionStyleModel",
            "_view_count": null,
            "_view_module": "@jupyter-widgets/base",
            "_view_module_version": "1.2.0",
            "_view_name": "StyleView",
            "description_width": ""
          }
        },
        "7818a2b3e1704f2c855c7acfcac91189": {
          "model_module": "plotlywidget",
          "model_name": "FigureModel",
          "model_module_version": "^1.4.0",
          "state": {
            "_config": {
              "plotlyServerURL": "https://plot.ly"
            },
            "_data": [
              {
                "mode": "markers",
                "name": "Stock Level",
                "x": [
                  "2021-10-27",
                  "2021-10-30",
                  "2021-12-03",
                  "2021-12-13",
                  "2022-01-19",
                  "2022-03-12",
                  "2022-07-14",
                  "2022-08-24",
                  "2022-10-01",
                  "2022-11-01",
                  "2022-11-13",
                  "2023-01-12",
                  "2023-02-19",
                  "2023-03-11",
                  "2023-03-18",
                  "2023-05-01",
                  "2023-08-16",
                  "2023-09-17",
                  "2023-10-12",
                  "2023-06-10",
                  "2023-08-26",
                  "2021-11-28",
                  "2022-09-28",
                  "2022-06-16",
                  "2022-01-28",
                  "2022-01-20",
                  "2023-01-30",
                  "2022-04-11",
                  "2022-11-02",
                  "2023-07-16",
                  "2021-12-18",
                  "2023-07-27",
                  "2023-07-27",
                  "2022-06-15",
                  "2023-06-28",
                  "2022-04-16",
                  "2022-09-23",
                  "2023-06-16",
                  "2023-06-14",
                  "2023-10-25",
                  "2022-05-07",
                  "2023-09-07",
                  "2022-02-02",
                  "2023-07-07",
                  "2023-06-06"
                ],
                "y": {
                  "dtype": "float64",
                  "shape": [
                    45
                  ]
                },
                "type": "scatter",
                "uid": "a1c995f7-2d8e-4cd1-9313-52a93e013464"
              },
              {
                "mode": "markers",
                "name": "Quantity Ordered",
                "x": [
                  "2021-10-27",
                  "2021-10-30",
                  "2021-12-03",
                  "2021-12-13",
                  "2022-01-19",
                  "2022-03-12",
                  "2022-07-14",
                  "2022-08-24",
                  "2022-10-01",
                  "2022-11-01",
                  "2022-11-13",
                  "2023-01-12",
                  "2023-02-19",
                  "2023-03-11",
                  "2023-03-18",
                  "2023-05-01",
                  "2023-08-16",
                  "2023-09-17",
                  "2023-10-12",
                  "2023-06-10",
                  "2023-08-26",
                  "2021-11-28",
                  "2022-09-28",
                  "2022-06-16",
                  "2022-01-28",
                  "2022-01-20",
                  "2023-01-30",
                  "2022-04-11",
                  "2022-11-02",
                  "2023-07-16",
                  "2021-12-18",
                  "2023-07-27",
                  "2023-07-27",
                  "2022-06-15",
                  "2023-06-28",
                  "2022-04-16",
                  "2022-09-23",
                  "2023-06-16",
                  "2023-06-14",
                  "2023-10-25",
                  "2022-05-07",
                  "2023-09-07",
                  "2022-02-02",
                  "2023-07-07",
                  "2023-06-06"
                ],
                "y": {
                  "dtype": "float64",
                  "shape": [
                    45
                  ]
                },
                "type": "scatter",
                "uid": "cc8b1ed9-b2b7-4c1c-8fd9-ce0560138bc6"
              }
            ],
            "_dom_classes": [],
            "_js2py_layoutDelta": null,
            "_js2py_pointsCallback": null,
            "_js2py_relayout": null,
            "_js2py_restyle": {},
            "_js2py_traceDeltas": null,
            "_js2py_update": {},
            "_last_layout_edit_id": 1,
            "_last_trace_edit_id": 0,
            "_layout": {
              "annotations": [
                {
                  "arrowhead": 1,
                  "showarrow": true,
                  "text": "Under_stock",
                  "x": "2022-07-14",
                  "y": 19
                },
                {
                  "arrowhead": 1,
                  "showarrow": true,
                  "text": "Out_of_stock",
                  "x": "2022-07-14",
                  "y": 59
                }
              ],
              "template": {
                "data": {
                  "barpolar": [
                    {
                      "marker": {
                        "line": {
                          "color": "#E5ECF6",
                          "width": 0.5
                        }
                      },
                      "type": "barpolar"
                    }
                  ],
                  "bar": [
                    {
                      "error_x": {
                        "color": "#2a3f5f"
                      },
                      "error_y": {
                        "color": "#2a3f5f"
                      },
                      "marker": {
                        "line": {
                          "color": "#E5ECF6",
                          "width": 0.5
                        }
                      },
                      "type": "bar"
                    }
                  ],
                  "carpet": [
                    {
                      "aaxis": {
                        "endlinecolor": "#2a3f5f",
                        "gridcolor": "white",
                        "linecolor": "white",
                        "minorgridcolor": "white",
                        "startlinecolor": "#2a3f5f"
                      },
                      "baxis": {
                        "endlinecolor": "#2a3f5f",
                        "gridcolor": "white",
                        "linecolor": "white",
                        "minorgridcolor": "white",
                        "startlinecolor": "#2a3f5f"
                      },
                      "type": "carpet"
                    }
                  ],
                  "choropleth": [
                    {
                      "colorbar": {
                        "outlinewidth": 0,
                        "ticks": ""
                      },
                      "type": "choropleth"
                    }
                  ],
                  "contourcarpet": [
                    {
                      "colorbar": {
                        "outlinewidth": 0,
                        "ticks": ""
                      },
                      "type": "contourcarpet"
                    }
                  ],
                  "contour": [
                    {
                      "colorbar": {
                        "outlinewidth": 0,
                        "ticks": ""
                      },
                      "colorscale": [
                        [
                          0,
                          "#0d0887"
                        ],
                        [
                          0.1111111111111111,
                          "#46039f"
                        ],
                        [
                          0.2222222222222222,
                          "#7201a8"
                        ],
                        [
                          0.3333333333333333,
                          "#9c179e"
                        ],
                        [
                          0.4444444444444444,
                          "#bd3786"
                        ],
                        [
                          0.5555555555555556,
                          "#d8576b"
                        ],
                        [
                          0.6666666666666666,
                          "#ed7953"
                        ],
                        [
                          0.7777777777777778,
                          "#fb9f3a"
                        ],
                        [
                          0.8888888888888888,
                          "#fdca26"
                        ],
                        [
                          1,
                          "#f0f921"
                        ]
                      ],
                      "type": "contour"
                    }
                  ],
                  "heatmapgl": [
                    {
                      "colorbar": {
                        "outlinewidth": 0,
                        "ticks": ""
                      },
                      "colorscale": [
                        [
                          0,
                          "#0d0887"
                        ],
                        [
                          0.1111111111111111,
                          "#46039f"
                        ],
                        [
                          0.2222222222222222,
                          "#7201a8"
                        ],
                        [
                          0.3333333333333333,
                          "#9c179e"
                        ],
                        [
                          0.4444444444444444,
                          "#bd3786"
                        ],
                        [
                          0.5555555555555556,
                          "#d8576b"
                        ],
                        [
                          0.6666666666666666,
                          "#ed7953"
                        ],
                        [
                          0.7777777777777778,
                          "#fb9f3a"
                        ],
                        [
                          0.8888888888888888,
                          "#fdca26"
                        ],
                        [
                          1,
                          "#f0f921"
                        ]
                      ],
                      "type": "heatmapgl"
                    }
                  ],
                  "heatmap": [
                    {
                      "colorbar": {
                        "outlinewidth": 0,
                        "ticks": ""
                      },
                      "colorscale": [
                        [
                          0,
                          "#0d0887"
                        ],
                        [
                          0.1111111111111111,
                          "#46039f"
                        ],
                        [
                          0.2222222222222222,
                          "#7201a8"
                        ],
                        [
                          0.3333333333333333,
                          "#9c179e"
                        ],
                        [
                          0.4444444444444444,
                          "#bd3786"
                        ],
                        [
                          0.5555555555555556,
                          "#d8576b"
                        ],
                        [
                          0.6666666666666666,
                          "#ed7953"
                        ],
                        [
                          0.7777777777777778,
                          "#fb9f3a"
                        ],
                        [
                          0.8888888888888888,
                          "#fdca26"
                        ],
                        [
                          1,
                          "#f0f921"
                        ]
                      ],
                      "type": "heatmap"
                    }
                  ],
                  "histogram2dcontour": [
                    {
                      "colorbar": {
                        "outlinewidth": 0,
                        "ticks": ""
                      },
                      "colorscale": [
                        [
                          0,
                          "#0d0887"
                        ],
                        [
                          0.1111111111111111,
                          "#46039f"
                        ],
                        [
                          0.2222222222222222,
                          "#7201a8"
                        ],
                        [
                          0.3333333333333333,
                          "#9c179e"
                        ],
                        [
                          0.4444444444444444,
                          "#bd3786"
                        ],
                        [
                          0.5555555555555556,
                          "#d8576b"
                        ],
                        [
                          0.6666666666666666,
                          "#ed7953"
                        ],
                        [
                          0.7777777777777778,
                          "#fb9f3a"
                        ],
                        [
                          0.8888888888888888,
                          "#fdca26"
                        ],
                        [
                          1,
                          "#f0f921"
                        ]
                      ],
                      "type": "histogram2dcontour"
                    }
                  ],
                  "histogram2d": [
                    {
                      "colorbar": {
                        "outlinewidth": 0,
                        "ticks": ""
                      },
                      "colorscale": [
                        [
                          0,
                          "#0d0887"
                        ],
                        [
                          0.1111111111111111,
                          "#46039f"
                        ],
                        [
                          0.2222222222222222,
                          "#7201a8"
                        ],
                        [
                          0.3333333333333333,
                          "#9c179e"
                        ],
                        [
                          0.4444444444444444,
                          "#bd3786"
                        ],
                        [
                          0.5555555555555556,
                          "#d8576b"
                        ],
                        [
                          0.6666666666666666,
                          "#ed7953"
                        ],
                        [
                          0.7777777777777778,
                          "#fb9f3a"
                        ],
                        [
                          0.8888888888888888,
                          "#fdca26"
                        ],
                        [
                          1,
                          "#f0f921"
                        ]
                      ],
                      "type": "histogram2d"
                    }
                  ],
                  "histogram": [
                    {
                      "marker": {
                        "colorbar": {
                          "outlinewidth": 0,
                          "ticks": ""
                        }
                      },
                      "type": "histogram"
                    }
                  ],
                  "mesh3d": [
                    {
                      "colorbar": {
                        "outlinewidth": 0,
                        "ticks": ""
                      },
                      "type": "mesh3d"
                    }
                  ],
                  "parcoords": [
                    {
                      "line": {
                        "colorbar": {
                          "outlinewidth": 0,
                          "ticks": ""
                        }
                      },
                      "type": "parcoords"
                    }
                  ],
                  "pie": [
                    {
                      "automargin": true,
                      "type": "pie"
                    }
                  ],
                  "scatter3d": [
                    {
                      "line": {
                        "colorbar": {
                          "outlinewidth": 0,
                          "ticks": ""
                        }
                      },
                      "marker": {
                        "colorbar": {
                          "outlinewidth": 0,
                          "ticks": ""
                        }
                      },
                      "type": "scatter3d"
                    }
                  ],
                  "scattercarpet": [
                    {
                      "marker": {
                        "colorbar": {
                          "outlinewidth": 0,
                          "ticks": ""
                        }
                      },
                      "type": "scattercarpet"
                    }
                  ],
                  "scattergeo": [
                    {
                      "marker": {
                        "colorbar": {
                          "outlinewidth": 0,
                          "ticks": ""
                        }
                      },
                      "type": "scattergeo"
                    }
                  ],
                  "scattergl": [
                    {
                      "marker": {
                        "colorbar": {
                          "outlinewidth": 0,
                          "ticks": ""
                        }
                      },
                      "type": "scattergl"
                    }
                  ],
                  "scattermapbox": [
                    {
                      "marker": {
                        "colorbar": {
                          "outlinewidth": 0,
                          "ticks": ""
                        }
                      },
                      "type": "scattermapbox"
                    }
                  ],
                  "scatterpolargl": [
                    {
                      "marker": {
                        "colorbar": {
                          "outlinewidth": 0,
                          "ticks": ""
                        }
                      },
                      "type": "scatterpolargl"
                    }
                  ],
                  "scatterpolar": [
                    {
                      "marker": {
                        "colorbar": {
                          "outlinewidth": 0,
                          "ticks": ""
                        }
                      },
                      "type": "scatterpolar"
                    }
                  ],
                  "scatter": [
                    {
                      "marker": {
                        "colorbar": {
                          "outlinewidth": 0,
                          "ticks": ""
                        }
                      },
                      "type": "scatter"
                    }
                  ],
                  "scatterternary": [
                    {
                      "marker": {
                        "colorbar": {
                          "outlinewidth": 0,
                          "ticks": ""
                        }
                      },
                      "type": "scatterternary"
                    }
                  ],
                  "surface": [
                    {
                      "colorbar": {
                        "outlinewidth": 0,
                        "ticks": ""
                      },
                      "colorscale": [
                        [
                          0,
                          "#0d0887"
                        ],
                        [
                          0.1111111111111111,
                          "#46039f"
                        ],
                        [
                          0.2222222222222222,
                          "#7201a8"
                        ],
                        [
                          0.3333333333333333,
                          "#9c179e"
                        ],
                        [
                          0.4444444444444444,
                          "#bd3786"
                        ],
                        [
                          0.5555555555555556,
                          "#d8576b"
                        ],
                        [
                          0.6666666666666666,
                          "#ed7953"
                        ],
                        [
                          0.7777777777777778,
                          "#fb9f3a"
                        ],
                        [
                          0.8888888888888888,
                          "#fdca26"
                        ],
                        [
                          1,
                          "#f0f921"
                        ]
                      ],
                      "type": "surface"
                    }
                  ],
                  "table": [
                    {
                      "cells": {
                        "fill": {
                          "color": "#EBF0F8"
                        },
                        "line": {
                          "color": "white"
                        }
                      },
                      "header": {
                        "fill": {
                          "color": "#C8D4E3"
                        },
                        "line": {
                          "color": "white"
                        }
                      },
                      "type": "table"
                    }
                  ]
                },
                "layout": {
                  "annotationdefaults": {
                    "arrowcolor": "#2a3f5f",
                    "arrowhead": 0,
                    "arrowwidth": 1
                  },
                  "coloraxis": {
                    "colorbar": {
                      "outlinewidth": 0,
                      "ticks": ""
                    }
                  },
                  "colorscale": {
                    "diverging": [
                      [
                        0,
                        "#8e0152"
                      ],
                      [
                        0.1,
                        "#c51b7d"
                      ],
                      [
                        0.2,
                        "#de77ae"
                      ],
                      [
                        0.3,
                        "#f1b6da"
                      ],
                      [
                        0.4,
                        "#fde0ef"
                      ],
                      [
                        0.5,
                        "#f7f7f7"
                      ],
                      [
                        0.6,
                        "#e6f5d0"
                      ],
                      [
                        0.7,
                        "#b8e186"
                      ],
                      [
                        0.8,
                        "#7fbc41"
                      ],
                      [
                        0.9,
                        "#4d9221"
                      ],
                      [
                        1,
                        "#276419"
                      ]
                    ],
                    "sequential": [
                      [
                        0,
                        "#0d0887"
                      ],
                      [
                        0.1111111111111111,
                        "#46039f"
                      ],
                      [
                        0.2222222222222222,
                        "#7201a8"
                      ],
                      [
                        0.3333333333333333,
                        "#9c179e"
                      ],
                      [
                        0.4444444444444444,
                        "#bd3786"
                      ],
                      [
                        0.5555555555555556,
                        "#d8576b"
                      ],
                      [
                        0.6666666666666666,
                        "#ed7953"
                      ],
                      [
                        0.7777777777777778,
                        "#fb9f3a"
                      ],
                      [
                        0.8888888888888888,
                        "#fdca26"
                      ],
                      [
                        1,
                        "#f0f921"
                      ]
                    ],
                    "sequentialminus": [
                      [
                        0,
                        "#0d0887"
                      ],
                      [
                        0.1111111111111111,
                        "#46039f"
                      ],
                      [
                        0.2222222222222222,
                        "#7201a8"
                      ],
                      [
                        0.3333333333333333,
                        "#9c179e"
                      ],
                      [
                        0.4444444444444444,
                        "#bd3786"
                      ],
                      [
                        0.5555555555555556,
                        "#d8576b"
                      ],
                      [
                        0.6666666666666666,
                        "#ed7953"
                      ],
                      [
                        0.7777777777777778,
                        "#fb9f3a"
                      ],
                      [
                        0.8888888888888888,
                        "#fdca26"
                      ],
                      [
                        1,
                        "#f0f921"
                      ]
                    ]
                  },
                  "colorway": [
                    "#636efa",
                    "#EF553B",
                    "#00cc96",
                    "#ab63fa",
                    "#FFA15A",
                    "#19d3f3",
                    "#FF6692",
                    "#B6E880",
                    "#FF97FF",
                    "#FECB52"
                  ],
                  "font": {
                    "color": "#2a3f5f"
                  },
                  "geo": {
                    "bgcolor": "white",
                    "lakecolor": "white",
                    "landcolor": "#E5ECF6",
                    "showlakes": true,
                    "showland": true,
                    "subunitcolor": "white"
                  },
                  "hoverlabel": {
                    "align": "left"
                  },
                  "hovermode": "closest",
                  "mapbox": {
                    "style": "light"
                  },
                  "paper_bgcolor": "white",
                  "plot_bgcolor": "#E5ECF6",
                  "polar": {
                    "angularaxis": {
                      "gridcolor": "white",
                      "linecolor": "white",
                      "ticks": ""
                    },
                    "bgcolor": "#E5ECF6",
                    "radialaxis": {
                      "gridcolor": "white",
                      "linecolor": "white",
                      "ticks": ""
                    }
                  },
                  "scene": {
                    "xaxis": {
                      "backgroundcolor": "#E5ECF6",
                      "gridcolor": "white",
                      "gridwidth": 2,
                      "linecolor": "white",
                      "showbackground": true,
                      "ticks": "",
                      "zerolinecolor": "white"
                    },
                    "yaxis": {
                      "backgroundcolor": "#E5ECF6",
                      "gridcolor": "white",
                      "gridwidth": 2,
                      "linecolor": "white",
                      "showbackground": true,
                      "ticks": "",
                      "zerolinecolor": "white"
                    },
                    "zaxis": {
                      "backgroundcolor": "#E5ECF6",
                      "gridcolor": "white",
                      "gridwidth": 2,
                      "linecolor": "white",
                      "showbackground": true,
                      "ticks": "",
                      "zerolinecolor": "white"
                    }
                  },
                  "shapedefaults": {
                    "line": {
                      "color": "#2a3f5f"
                    }
                  },
                  "ternary": {
                    "aaxis": {
                      "gridcolor": "white",
                      "linecolor": "white",
                      "ticks": ""
                    },
                    "baxis": {
                      "gridcolor": "white",
                      "linecolor": "white",
                      "ticks": ""
                    },
                    "bgcolor": "#E5ECF6",
                    "caxis": {
                      "gridcolor": "white",
                      "linecolor": "white",
                      "ticks": ""
                    }
                  },
                  "title": {
                    "x": 0.05
                  },
                  "xaxis": {
                    "automargin": true,
                    "gridcolor": "white",
                    "linecolor": "white",
                    "ticks": "",
                    "title": {
                      "standoff": 15
                    },
                    "zerolinecolor": "white",
                    "zerolinewidth": 2
                  },
                  "yaxis": {
                    "automargin": true,
                    "gridcolor": "white",
                    "linecolor": "white",
                    "ticks": "",
                    "title": {
                      "standoff": 15
                    },
                    "zerolinecolor": "white",
                    "zerolinewidth": 2
                  }
                }
              },
              "title": {
                "text": "Product P10 in Warehouse W1"
              }
            },
            "_model_module": "plotlywidget",
            "_model_module_version": "^1.4.0",
            "_model_name": "FigureModel",
            "_py2js_addTraces": {},
            "_py2js_animate": {},
            "_py2js_deleteTraces": {},
            "_py2js_moveTraces": {},
            "_py2js_relayout": null,
            "_py2js_removeLayoutProps": {},
            "_py2js_removeTraceProps": {},
            "_py2js_restyle": {},
            "_py2js_update": {},
            "_view_count": 1,
            "_view_module": "plotlywidget",
            "_view_module_version": "^1.4.0",
            "_view_name": "FigureView"
          }
        },
        "7968514e3bca42b7b2aa0efaf21b3910": {
          "model_module": "plotlywidget",
          "model_name": "FigureModel",
          "model_module_version": "^1.4.0",
          "state": {
            "_config": {
              "plotlyServerURL": "https://plot.ly"
            },
            "_data": [
              {
                "mode": "markers",
                "name": "Stock Level",
                "x": [
                  "2021-11-09",
                  "2021-11-13",
                  "2021-12-15",
                  "2022-02-14",
                  "2022-03-18",
                  "2022-07-23",
                  "2022-07-24",
                  "2022-09-05",
                  "2022-10-23",
                  "2022-11-02",
                  "2022-12-09",
                  "2022-12-26",
                  "2023-01-29",
                  "2023-03-08",
                  "2023-08-28",
                  "2023-09-25",
                  "2022-12-03",
                  "2022-09-01",
                  "2022-03-19",
                  "2022-02-11",
                  "2023-07-13",
                  "2023-06-08",
                  "2023-08-31",
                  "2022-05-06",
                  "2023-02-01",
                  "2022-02-13",
                  "2023-07-20",
                  "2023-09-28",
                  "2022-11-23",
                  "2023-05-18",
                  "2022-07-11",
                  "2023-01-11",
                  "2023-04-10",
                  "2023-04-02",
                  "2023-10-13",
                  "2022-06-06"
                ],
                "y": {
                  "dtype": "float64",
                  "shape": [
                    36
                  ]
                },
                "type": "scatter",
                "uid": "ce16880f-df87-47a7-8edf-a758500fe2af"
              },
              {
                "mode": "markers",
                "name": "Quantity Ordered",
                "x": [
                  "2021-11-09",
                  "2021-11-13",
                  "2021-12-15",
                  "2022-02-14",
                  "2022-03-18",
                  "2022-07-23",
                  "2022-07-24",
                  "2022-09-05",
                  "2022-10-23",
                  "2022-11-02",
                  "2022-12-09",
                  "2022-12-26",
                  "2023-01-29",
                  "2023-03-08",
                  "2023-08-28",
                  "2023-09-25",
                  "2022-12-03",
                  "2022-09-01",
                  "2022-03-19",
                  "2022-02-11",
                  "2023-07-13",
                  "2023-06-08",
                  "2023-08-31",
                  "2022-05-06",
                  "2023-02-01",
                  "2022-02-13",
                  "2023-07-20",
                  "2023-09-28",
                  "2022-11-23",
                  "2023-05-18",
                  "2022-07-11",
                  "2023-01-11",
                  "2023-04-10",
                  "2023-04-02",
                  "2023-10-13",
                  "2022-06-06"
                ],
                "y": {
                  "dtype": "float64",
                  "shape": [
                    36
                  ]
                },
                "type": "scatter",
                "uid": "e51ada55-f87f-49a2-895c-5d0cad04af30"
              }
            ],
            "_dom_classes": [],
            "_js2py_layoutDelta": null,
            "_js2py_pointsCallback": null,
            "_js2py_relayout": null,
            "_js2py_restyle": {},
            "_js2py_traceDeltas": null,
            "_js2py_update": {},
            "_last_layout_edit_id": 1,
            "_last_trace_edit_id": 0,
            "_layout": {
              "template": {
                "data": {
                  "barpolar": [
                    {
                      "marker": {
                        "line": {
                          "color": "#E5ECF6",
                          "width": 0.5
                        }
                      },
                      "type": "barpolar"
                    }
                  ],
                  "bar": [
                    {
                      "error_x": {
                        "color": "#2a3f5f"
                      },
                      "error_y": {
                        "color": "#2a3f5f"
                      },
                      "marker": {
                        "line": {
                          "color": "#E5ECF6",
                          "width": 0.5
                        }
                      },
                      "type": "bar"
                    }
                  ],
                  "carpet": [
                    {
                      "aaxis": {
                        "endlinecolor": "#2a3f5f",
                        "gridcolor": "white",
                        "linecolor": "white",
                        "minorgridcolor": "white",
                        "startlinecolor": "#2a3f5f"
                      },
                      "baxis": {
                        "endlinecolor": "#2a3f5f",
                        "gridcolor": "white",
                        "linecolor": "white",
                        "minorgridcolor": "white",
                        "startlinecolor": "#2a3f5f"
                      },
                      "type": "carpet"
                    }
                  ],
                  "choropleth": [
                    {
                      "colorbar": {
                        "outlinewidth": 0,
                        "ticks": ""
                      },
                      "type": "choropleth"
                    }
                  ],
                  "contourcarpet": [
                    {
                      "colorbar": {
                        "outlinewidth": 0,
                        "ticks": ""
                      },
                      "type": "contourcarpet"
                    }
                  ],
                  "contour": [
                    {
                      "colorbar": {
                        "outlinewidth": 0,
                        "ticks": ""
                      },
                      "colorscale": [
                        [
                          0,
                          "#0d0887"
                        ],
                        [
                          0.1111111111111111,
                          "#46039f"
                        ],
                        [
                          0.2222222222222222,
                          "#7201a8"
                        ],
                        [
                          0.3333333333333333,
                          "#9c179e"
                        ],
                        [
                          0.4444444444444444,
                          "#bd3786"
                        ],
                        [
                          0.5555555555555556,
                          "#d8576b"
                        ],
                        [
                          0.6666666666666666,
                          "#ed7953"
                        ],
                        [
                          0.7777777777777778,
                          "#fb9f3a"
                        ],
                        [
                          0.8888888888888888,
                          "#fdca26"
                        ],
                        [
                          1,
                          "#f0f921"
                        ]
                      ],
                      "type": "contour"
                    }
                  ],
                  "heatmapgl": [
                    {
                      "colorbar": {
                        "outlinewidth": 0,
                        "ticks": ""
                      },
                      "colorscale": [
                        [
                          0,
                          "#0d0887"
                        ],
                        [
                          0.1111111111111111,
                          "#46039f"
                        ],
                        [
                          0.2222222222222222,
                          "#7201a8"
                        ],
                        [
                          0.3333333333333333,
                          "#9c179e"
                        ],
                        [
                          0.4444444444444444,
                          "#bd3786"
                        ],
                        [
                          0.5555555555555556,
                          "#d8576b"
                        ],
                        [
                          0.6666666666666666,
                          "#ed7953"
                        ],
                        [
                          0.7777777777777778,
                          "#fb9f3a"
                        ],
                        [
                          0.8888888888888888,
                          "#fdca26"
                        ],
                        [
                          1,
                          "#f0f921"
                        ]
                      ],
                      "type": "heatmapgl"
                    }
                  ],
                  "heatmap": [
                    {
                      "colorbar": {
                        "outlinewidth": 0,
                        "ticks": ""
                      },
                      "colorscale": [
                        [
                          0,
                          "#0d0887"
                        ],
                        [
                          0.1111111111111111,
                          "#46039f"
                        ],
                        [
                          0.2222222222222222,
                          "#7201a8"
                        ],
                        [
                          0.3333333333333333,
                          "#9c179e"
                        ],
                        [
                          0.4444444444444444,
                          "#bd3786"
                        ],
                        [
                          0.5555555555555556,
                          "#d8576b"
                        ],
                        [
                          0.6666666666666666,
                          "#ed7953"
                        ],
                        [
                          0.7777777777777778,
                          "#fb9f3a"
                        ],
                        [
                          0.8888888888888888,
                          "#fdca26"
                        ],
                        [
                          1,
                          "#f0f921"
                        ]
                      ],
                      "type": "heatmap"
                    }
                  ],
                  "histogram2dcontour": [
                    {
                      "colorbar": {
                        "outlinewidth": 0,
                        "ticks": ""
                      },
                      "colorscale": [
                        [
                          0,
                          "#0d0887"
                        ],
                        [
                          0.1111111111111111,
                          "#46039f"
                        ],
                        [
                          0.2222222222222222,
                          "#7201a8"
                        ],
                        [
                          0.3333333333333333,
                          "#9c179e"
                        ],
                        [
                          0.4444444444444444,
                          "#bd3786"
                        ],
                        [
                          0.5555555555555556,
                          "#d8576b"
                        ],
                        [
                          0.6666666666666666,
                          "#ed7953"
                        ],
                        [
                          0.7777777777777778,
                          "#fb9f3a"
                        ],
                        [
                          0.8888888888888888,
                          "#fdca26"
                        ],
                        [
                          1,
                          "#f0f921"
                        ]
                      ],
                      "type": "histogram2dcontour"
                    }
                  ],
                  "histogram2d": [
                    {
                      "colorbar": {
                        "outlinewidth": 0,
                        "ticks": ""
                      },
                      "colorscale": [
                        [
                          0,
                          "#0d0887"
                        ],
                        [
                          0.1111111111111111,
                          "#46039f"
                        ],
                        [
                          0.2222222222222222,
                          "#7201a8"
                        ],
                        [
                          0.3333333333333333,
                          "#9c179e"
                        ],
                        [
                          0.4444444444444444,
                          "#bd3786"
                        ],
                        [
                          0.5555555555555556,
                          "#d8576b"
                        ],
                        [
                          0.6666666666666666,
                          "#ed7953"
                        ],
                        [
                          0.7777777777777778,
                          "#fb9f3a"
                        ],
                        [
                          0.8888888888888888,
                          "#fdca26"
                        ],
                        [
                          1,
                          "#f0f921"
                        ]
                      ],
                      "type": "histogram2d"
                    }
                  ],
                  "histogram": [
                    {
                      "marker": {
                        "colorbar": {
                          "outlinewidth": 0,
                          "ticks": ""
                        }
                      },
                      "type": "histogram"
                    }
                  ],
                  "mesh3d": [
                    {
                      "colorbar": {
                        "outlinewidth": 0,
                        "ticks": ""
                      },
                      "type": "mesh3d"
                    }
                  ],
                  "parcoords": [
                    {
                      "line": {
                        "colorbar": {
                          "outlinewidth": 0,
                          "ticks": ""
                        }
                      },
                      "type": "parcoords"
                    }
                  ],
                  "pie": [
                    {
                      "automargin": true,
                      "type": "pie"
                    }
                  ],
                  "scatter3d": [
                    {
                      "line": {
                        "colorbar": {
                          "outlinewidth": 0,
                          "ticks": ""
                        }
                      },
                      "marker": {
                        "colorbar": {
                          "outlinewidth": 0,
                          "ticks": ""
                        }
                      },
                      "type": "scatter3d"
                    }
                  ],
                  "scattercarpet": [
                    {
                      "marker": {
                        "colorbar": {
                          "outlinewidth": 0,
                          "ticks": ""
                        }
                      },
                      "type": "scattercarpet"
                    }
                  ],
                  "scattergeo": [
                    {
                      "marker": {
                        "colorbar": {
                          "outlinewidth": 0,
                          "ticks": ""
                        }
                      },
                      "type": "scattergeo"
                    }
                  ],
                  "scattergl": [
                    {
                      "marker": {
                        "colorbar": {
                          "outlinewidth": 0,
                          "ticks": ""
                        }
                      },
                      "type": "scattergl"
                    }
                  ],
                  "scattermapbox": [
                    {
                      "marker": {
                        "colorbar": {
                          "outlinewidth": 0,
                          "ticks": ""
                        }
                      },
                      "type": "scattermapbox"
                    }
                  ],
                  "scatterpolargl": [
                    {
                      "marker": {
                        "colorbar": {
                          "outlinewidth": 0,
                          "ticks": ""
                        }
                      },
                      "type": "scatterpolargl"
                    }
                  ],
                  "scatterpolar": [
                    {
                      "marker": {
                        "colorbar": {
                          "outlinewidth": 0,
                          "ticks": ""
                        }
                      },
                      "type": "scatterpolar"
                    }
                  ],
                  "scatter": [
                    {
                      "marker": {
                        "colorbar": {
                          "outlinewidth": 0,
                          "ticks": ""
                        }
                      },
                      "type": "scatter"
                    }
                  ],
                  "scatterternary": [
                    {
                      "marker": {
                        "colorbar": {
                          "outlinewidth": 0,
                          "ticks": ""
                        }
                      },
                      "type": "scatterternary"
                    }
                  ],
                  "surface": [
                    {
                      "colorbar": {
                        "outlinewidth": 0,
                        "ticks": ""
                      },
                      "colorscale": [
                        [
                          0,
                          "#0d0887"
                        ],
                        [
                          0.1111111111111111,
                          "#46039f"
                        ],
                        [
                          0.2222222222222222,
                          "#7201a8"
                        ],
                        [
                          0.3333333333333333,
                          "#9c179e"
                        ],
                        [
                          0.4444444444444444,
                          "#bd3786"
                        ],
                        [
                          0.5555555555555556,
                          "#d8576b"
                        ],
                        [
                          0.6666666666666666,
                          "#ed7953"
                        ],
                        [
                          0.7777777777777778,
                          "#fb9f3a"
                        ],
                        [
                          0.8888888888888888,
                          "#fdca26"
                        ],
                        [
                          1,
                          "#f0f921"
                        ]
                      ],
                      "type": "surface"
                    }
                  ],
                  "table": [
                    {
                      "cells": {
                        "fill": {
                          "color": "#EBF0F8"
                        },
                        "line": {
                          "color": "white"
                        }
                      },
                      "header": {
                        "fill": {
                          "color": "#C8D4E3"
                        },
                        "line": {
                          "color": "white"
                        }
                      },
                      "type": "table"
                    }
                  ]
                },
                "layout": {
                  "annotationdefaults": {
                    "arrowcolor": "#2a3f5f",
                    "arrowhead": 0,
                    "arrowwidth": 1
                  },
                  "coloraxis": {
                    "colorbar": {
                      "outlinewidth": 0,
                      "ticks": ""
                    }
                  },
                  "colorscale": {
                    "diverging": [
                      [
                        0,
                        "#8e0152"
                      ],
                      [
                        0.1,
                        "#c51b7d"
                      ],
                      [
                        0.2,
                        "#de77ae"
                      ],
                      [
                        0.3,
                        "#f1b6da"
                      ],
                      [
                        0.4,
                        "#fde0ef"
                      ],
                      [
                        0.5,
                        "#f7f7f7"
                      ],
                      [
                        0.6,
                        "#e6f5d0"
                      ],
                      [
                        0.7,
                        "#b8e186"
                      ],
                      [
                        0.8,
                        "#7fbc41"
                      ],
                      [
                        0.9,
                        "#4d9221"
                      ],
                      [
                        1,
                        "#276419"
                      ]
                    ],
                    "sequential": [
                      [
                        0,
                        "#0d0887"
                      ],
                      [
                        0.1111111111111111,
                        "#46039f"
                      ],
                      [
                        0.2222222222222222,
                        "#7201a8"
                      ],
                      [
                        0.3333333333333333,
                        "#9c179e"
                      ],
                      [
                        0.4444444444444444,
                        "#bd3786"
                      ],
                      [
                        0.5555555555555556,
                        "#d8576b"
                      ],
                      [
                        0.6666666666666666,
                        "#ed7953"
                      ],
                      [
                        0.7777777777777778,
                        "#fb9f3a"
                      ],
                      [
                        0.8888888888888888,
                        "#fdca26"
                      ],
                      [
                        1,
                        "#f0f921"
                      ]
                    ],
                    "sequentialminus": [
                      [
                        0,
                        "#0d0887"
                      ],
                      [
                        0.1111111111111111,
                        "#46039f"
                      ],
                      [
                        0.2222222222222222,
                        "#7201a8"
                      ],
                      [
                        0.3333333333333333,
                        "#9c179e"
                      ],
                      [
                        0.4444444444444444,
                        "#bd3786"
                      ],
                      [
                        0.5555555555555556,
                        "#d8576b"
                      ],
                      [
                        0.6666666666666666,
                        "#ed7953"
                      ],
                      [
                        0.7777777777777778,
                        "#fb9f3a"
                      ],
                      [
                        0.8888888888888888,
                        "#fdca26"
                      ],
                      [
                        1,
                        "#f0f921"
                      ]
                    ]
                  },
                  "colorway": [
                    "#636efa",
                    "#EF553B",
                    "#00cc96",
                    "#ab63fa",
                    "#FFA15A",
                    "#19d3f3",
                    "#FF6692",
                    "#B6E880",
                    "#FF97FF",
                    "#FECB52"
                  ],
                  "font": {
                    "color": "#2a3f5f"
                  },
                  "geo": {
                    "bgcolor": "white",
                    "lakecolor": "white",
                    "landcolor": "#E5ECF6",
                    "showlakes": true,
                    "showland": true,
                    "subunitcolor": "white"
                  },
                  "hoverlabel": {
                    "align": "left"
                  },
                  "hovermode": "closest",
                  "mapbox": {
                    "style": "light"
                  },
                  "paper_bgcolor": "white",
                  "plot_bgcolor": "#E5ECF6",
                  "polar": {
                    "angularaxis": {
                      "gridcolor": "white",
                      "linecolor": "white",
                      "ticks": ""
                    },
                    "bgcolor": "#E5ECF6",
                    "radialaxis": {
                      "gridcolor": "white",
                      "linecolor": "white",
                      "ticks": ""
                    }
                  },
                  "scene": {
                    "xaxis": {
                      "backgroundcolor": "#E5ECF6",
                      "gridcolor": "white",
                      "gridwidth": 2,
                      "linecolor": "white",
                      "showbackground": true,
                      "ticks": "",
                      "zerolinecolor": "white"
                    },
                    "yaxis": {
                      "backgroundcolor": "#E5ECF6",
                      "gridcolor": "white",
                      "gridwidth": 2,
                      "linecolor": "white",
                      "showbackground": true,
                      "ticks": "",
                      "zerolinecolor": "white"
                    },
                    "zaxis": {
                      "backgroundcolor": "#E5ECF6",
                      "gridcolor": "white",
                      "gridwidth": 2,
                      "linecolor": "white",
                      "showbackground": true,
                      "ticks": "",
                      "zerolinecolor": "white"
                    }
                  },
                  "shapedefaults": {
                    "line": {
                      "color": "#2a3f5f"
                    }
                  },
                  "ternary": {
                    "aaxis": {
                      "gridcolor": "white",
                      "linecolor": "white",
                      "ticks": ""
                    },
                    "baxis": {
                      "gridcolor": "white",
                      "linecolor": "white",
                      "ticks": ""
                    },
                    "bgcolor": "#E5ECF6",
                    "caxis": {
                      "gridcolor": "white",
                      "linecolor": "white",
                      "ticks": ""
                    }
                  },
                  "title": {
                    "x": 0.05
                  },
                  "xaxis": {
                    "automargin": true,
                    "gridcolor": "white",
                    "linecolor": "white",
                    "ticks": "",
                    "title": {
                      "standoff": 15
                    },
                    "zerolinecolor": "white",
                    "zerolinewidth": 2
                  },
                  "yaxis": {
                    "automargin": true,
                    "gridcolor": "white",
                    "linecolor": "white",
                    "ticks": "",
                    "title": {
                      "standoff": 15
                    },
                    "zerolinecolor": "white",
                    "zerolinewidth": 2
                  }
                }
              },
              "title": {
                "text": "Product P10 in Warehouse W18"
              }
            },
            "_model_module": "plotlywidget",
            "_model_module_version": "^1.4.0",
            "_model_name": "FigureModel",
            "_py2js_addTraces": {},
            "_py2js_animate": {},
            "_py2js_deleteTraces": {},
            "_py2js_moveTraces": {},
            "_py2js_relayout": null,
            "_py2js_removeLayoutProps": {},
            "_py2js_removeTraceProps": {},
            "_py2js_restyle": {},
            "_py2js_update": {},
            "_view_count": 1,
            "_view_module": "plotlywidget",
            "_view_module_version": "^1.4.0",
            "_view_name": "FigureView"
          }
        },
        "212dfd2712034919a0a3c1bf5e9e673a": {
          "model_module": "plotlywidget",
          "model_name": "FigureModel",
          "model_module_version": "^1.4.0",
          "state": {
            "_config": {
              "plotlyServerURL": "https://plot.ly"
            },
            "_data": [
              {
                "mode": "markers",
                "name": "Stock Level",
                "x": [
                  "2021-11-06",
                  "2022-01-31",
                  "2022-03-12",
                  "2022-03-15",
                  "2022-06-11",
                  "2022-07-27",
                  "2022-09-05",
                  "2022-09-19",
                  "2022-12-10",
                  "2022-12-17",
                  "2023-02-03",
                  "2023-03-29",
                  "2023-04-28",
                  "2023-07-20",
                  "2023-10-10",
                  "2023-07-05",
                  "2023-10-25",
                  "2023-02-19",
                  "2021-12-12",
                  "2022-01-16",
                  "2021-12-31",
                  "2023-08-08",
                  "2023-08-08",
                  "2023-07-25",
                  "2023-10-24",
                  "2023-04-10",
                  "2023-09-27",
                  "2023-09-27",
                  "2023-09-01",
                  "2022-01-28",
                  "2022-08-03",
                  "2022-08-03",
                  "2021-11-21",
                  "2021-12-11",
                  "2022-07-23",
                  "2023-07-08",
                  "2022-06-03",
                  "2022-10-24",
                  "2022-07-07",
                  "2022-10-18",
                  "2022-12-23",
                  "2023-08-05",
                  "2023-02-07",
                  "2023-03-25",
                  "2022-06-16",
                  "2022-11-07",
                  "2022-10-25",
                  "2022-05-09"
                ],
                "y": {
                  "dtype": "float64",
                  "shape": [
                    48
                  ]
                },
                "type": "scatter",
                "uid": "bc8cf563-f0ec-4e4c-99e6-9d61653c0979"
              },
              {
                "mode": "markers",
                "name": "Quantity Ordered",
                "x": [
                  "2021-11-06",
                  "2022-01-31",
                  "2022-03-12",
                  "2022-03-15",
                  "2022-06-11",
                  "2022-07-27",
                  "2022-09-05",
                  "2022-09-19",
                  "2022-12-10",
                  "2022-12-17",
                  "2023-02-03",
                  "2023-03-29",
                  "2023-04-28",
                  "2023-07-20",
                  "2023-10-10",
                  "2023-07-05",
                  "2023-10-25",
                  "2023-02-19",
                  "2021-12-12",
                  "2022-01-16",
                  "2021-12-31",
                  "2023-08-08",
                  "2023-08-08",
                  "2023-07-25",
                  "2023-10-24",
                  "2023-04-10",
                  "2023-09-27",
                  "2023-09-27",
                  "2023-09-01",
                  "2022-01-28",
                  "2022-08-03",
                  "2022-08-03",
                  "2021-11-21",
                  "2021-12-11",
                  "2022-07-23",
                  "2023-07-08",
                  "2022-06-03",
                  "2022-10-24",
                  "2022-07-07",
                  "2022-10-18",
                  "2022-12-23",
                  "2023-08-05",
                  "2023-02-07",
                  "2023-03-25",
                  "2022-06-16",
                  "2022-11-07",
                  "2022-10-25",
                  "2022-05-09"
                ],
                "y": {
                  "dtype": "float64",
                  "shape": [
                    48
                  ]
                },
                "type": "scatter",
                "uid": "41c43c9e-2c20-480d-9bfc-928b2d3347b3"
              }
            ],
            "_dom_classes": [],
            "_js2py_layoutDelta": null,
            "_js2py_pointsCallback": {},
            "_js2py_relayout": null,
            "_js2py_restyle": {},
            "_js2py_traceDeltas": null,
            "_js2py_update": {},
            "_last_layout_edit_id": 1,
            "_last_trace_edit_id": 0,
            "_layout": {
              "annotations": [
                {
                  "arrowhead": 1,
                  "showarrow": true,
                  "text": "Under_stock",
                  "x": "2021-11-06",
                  "y": 12
                },
                {
                  "arrowhead": 1,
                  "showarrow": true,
                  "text": "Under_stock",
                  "x": "2023-10-10",
                  "y": 4
                },
                {
                  "arrowhead": 1,
                  "showarrow": true,
                  "text": "Overstock",
                  "x": "2022-03-15",
                  "y": 970
                },
                {
                  "arrowhead": 1,
                  "showarrow": true,
                  "text": "Overstock",
                  "x": "2022-03-15",
                  "y": 970
                }
              ],
              "template": {
                "data": {
                  "barpolar": [
                    {
                      "marker": {
                        "line": {
                          "color": "#E5ECF6",
                          "width": 0.5
                        }
                      },
                      "type": "barpolar"
                    }
                  ],
                  "bar": [
                    {
                      "error_x": {
                        "color": "#2a3f5f"
                      },
                      "error_y": {
                        "color": "#2a3f5f"
                      },
                      "marker": {
                        "line": {
                          "color": "#E5ECF6",
                          "width": 0.5
                        }
                      },
                      "type": "bar"
                    }
                  ],
                  "carpet": [
                    {
                      "aaxis": {
                        "endlinecolor": "#2a3f5f",
                        "gridcolor": "white",
                        "linecolor": "white",
                        "minorgridcolor": "white",
                        "startlinecolor": "#2a3f5f"
                      },
                      "baxis": {
                        "endlinecolor": "#2a3f5f",
                        "gridcolor": "white",
                        "linecolor": "white",
                        "minorgridcolor": "white",
                        "startlinecolor": "#2a3f5f"
                      },
                      "type": "carpet"
                    }
                  ],
                  "choropleth": [
                    {
                      "colorbar": {
                        "outlinewidth": 0,
                        "ticks": ""
                      },
                      "type": "choropleth"
                    }
                  ],
                  "contourcarpet": [
                    {
                      "colorbar": {
                        "outlinewidth": 0,
                        "ticks": ""
                      },
                      "type": "contourcarpet"
                    }
                  ],
                  "contour": [
                    {
                      "colorbar": {
                        "outlinewidth": 0,
                        "ticks": ""
                      },
                      "colorscale": [
                        [
                          0,
                          "#0d0887"
                        ],
                        [
                          0.1111111111111111,
                          "#46039f"
                        ],
                        [
                          0.2222222222222222,
                          "#7201a8"
                        ],
                        [
                          0.3333333333333333,
                          "#9c179e"
                        ],
                        [
                          0.4444444444444444,
                          "#bd3786"
                        ],
                        [
                          0.5555555555555556,
                          "#d8576b"
                        ],
                        [
                          0.6666666666666666,
                          "#ed7953"
                        ],
                        [
                          0.7777777777777778,
                          "#fb9f3a"
                        ],
                        [
                          0.8888888888888888,
                          "#fdca26"
                        ],
                        [
                          1,
                          "#f0f921"
                        ]
                      ],
                      "type": "contour"
                    }
                  ],
                  "heatmapgl": [
                    {
                      "colorbar": {
                        "outlinewidth": 0,
                        "ticks": ""
                      },
                      "colorscale": [
                        [
                          0,
                          "#0d0887"
                        ],
                        [
                          0.1111111111111111,
                          "#46039f"
                        ],
                        [
                          0.2222222222222222,
                          "#7201a8"
                        ],
                        [
                          0.3333333333333333,
                          "#9c179e"
                        ],
                        [
                          0.4444444444444444,
                          "#bd3786"
                        ],
                        [
                          0.5555555555555556,
                          "#d8576b"
                        ],
                        [
                          0.6666666666666666,
                          "#ed7953"
                        ],
                        [
                          0.7777777777777778,
                          "#fb9f3a"
                        ],
                        [
                          0.8888888888888888,
                          "#fdca26"
                        ],
                        [
                          1,
                          "#f0f921"
                        ]
                      ],
                      "type": "heatmapgl"
                    }
                  ],
                  "heatmap": [
                    {
                      "colorbar": {
                        "outlinewidth": 0,
                        "ticks": ""
                      },
                      "colorscale": [
                        [
                          0,
                          "#0d0887"
                        ],
                        [
                          0.1111111111111111,
                          "#46039f"
                        ],
                        [
                          0.2222222222222222,
                          "#7201a8"
                        ],
                        [
                          0.3333333333333333,
                          "#9c179e"
                        ],
                        [
                          0.4444444444444444,
                          "#bd3786"
                        ],
                        [
                          0.5555555555555556,
                          "#d8576b"
                        ],
                        [
                          0.6666666666666666,
                          "#ed7953"
                        ],
                        [
                          0.7777777777777778,
                          "#fb9f3a"
                        ],
                        [
                          0.8888888888888888,
                          "#fdca26"
                        ],
                        [
                          1,
                          "#f0f921"
                        ]
                      ],
                      "type": "heatmap"
                    }
                  ],
                  "histogram2dcontour": [
                    {
                      "colorbar": {
                        "outlinewidth": 0,
                        "ticks": ""
                      },
                      "colorscale": [
                        [
                          0,
                          "#0d0887"
                        ],
                        [
                          0.1111111111111111,
                          "#46039f"
                        ],
                        [
                          0.2222222222222222,
                          "#7201a8"
                        ],
                        [
                          0.3333333333333333,
                          "#9c179e"
                        ],
                        [
                          0.4444444444444444,
                          "#bd3786"
                        ],
                        [
                          0.5555555555555556,
                          "#d8576b"
                        ],
                        [
                          0.6666666666666666,
                          "#ed7953"
                        ],
                        [
                          0.7777777777777778,
                          "#fb9f3a"
                        ],
                        [
                          0.8888888888888888,
                          "#fdca26"
                        ],
                        [
                          1,
                          "#f0f921"
                        ]
                      ],
                      "type": "histogram2dcontour"
                    }
                  ],
                  "histogram2d": [
                    {
                      "colorbar": {
                        "outlinewidth": 0,
                        "ticks": ""
                      },
                      "colorscale": [
                        [
                          0,
                          "#0d0887"
                        ],
                        [
                          0.1111111111111111,
                          "#46039f"
                        ],
                        [
                          0.2222222222222222,
                          "#7201a8"
                        ],
                        [
                          0.3333333333333333,
                          "#9c179e"
                        ],
                        [
                          0.4444444444444444,
                          "#bd3786"
                        ],
                        [
                          0.5555555555555556,
                          "#d8576b"
                        ],
                        [
                          0.6666666666666666,
                          "#ed7953"
                        ],
                        [
                          0.7777777777777778,
                          "#fb9f3a"
                        ],
                        [
                          0.8888888888888888,
                          "#fdca26"
                        ],
                        [
                          1,
                          "#f0f921"
                        ]
                      ],
                      "type": "histogram2d"
                    }
                  ],
                  "histogram": [
                    {
                      "marker": {
                        "colorbar": {
                          "outlinewidth": 0,
                          "ticks": ""
                        }
                      },
                      "type": "histogram"
                    }
                  ],
                  "mesh3d": [
                    {
                      "colorbar": {
                        "outlinewidth": 0,
                        "ticks": ""
                      },
                      "type": "mesh3d"
                    }
                  ],
                  "parcoords": [
                    {
                      "line": {
                        "colorbar": {
                          "outlinewidth": 0,
                          "ticks": ""
                        }
                      },
                      "type": "parcoords"
                    }
                  ],
                  "pie": [
                    {
                      "automargin": true,
                      "type": "pie"
                    }
                  ],
                  "scatter3d": [
                    {
                      "line": {
                        "colorbar": {
                          "outlinewidth": 0,
                          "ticks": ""
                        }
                      },
                      "marker": {
                        "colorbar": {
                          "outlinewidth": 0,
                          "ticks": ""
                        }
                      },
                      "type": "scatter3d"
                    }
                  ],
                  "scattercarpet": [
                    {
                      "marker": {
                        "colorbar": {
                          "outlinewidth": 0,
                          "ticks": ""
                        }
                      },
                      "type": "scattercarpet"
                    }
                  ],
                  "scattergeo": [
                    {
                      "marker": {
                        "colorbar": {
                          "outlinewidth": 0,
                          "ticks": ""
                        }
                      },
                      "type": "scattergeo"
                    }
                  ],
                  "scattergl": [
                    {
                      "marker": {
                        "colorbar": {
                          "outlinewidth": 0,
                          "ticks": ""
                        }
                      },
                      "type": "scattergl"
                    }
                  ],
                  "scattermapbox": [
                    {
                      "marker": {
                        "colorbar": {
                          "outlinewidth": 0,
                          "ticks": ""
                        }
                      },
                      "type": "scattermapbox"
                    }
                  ],
                  "scatterpolargl": [
                    {
                      "marker": {
                        "colorbar": {
                          "outlinewidth": 0,
                          "ticks": ""
                        }
                      },
                      "type": "scatterpolargl"
                    }
                  ],
                  "scatterpolar": [
                    {
                      "marker": {
                        "colorbar": {
                          "outlinewidth": 0,
                          "ticks": ""
                        }
                      },
                      "type": "scatterpolar"
                    }
                  ],
                  "scatter": [
                    {
                      "marker": {
                        "colorbar": {
                          "outlinewidth": 0,
                          "ticks": ""
                        }
                      },
                      "type": "scatter"
                    }
                  ],
                  "scatterternary": [
                    {
                      "marker": {
                        "colorbar": {
                          "outlinewidth": 0,
                          "ticks": ""
                        }
                      },
                      "type": "scatterternary"
                    }
                  ],
                  "surface": [
                    {
                      "colorbar": {
                        "outlinewidth": 0,
                        "ticks": ""
                      },
                      "colorscale": [
                        [
                          0,
                          "#0d0887"
                        ],
                        [
                          0.1111111111111111,
                          "#46039f"
                        ],
                        [
                          0.2222222222222222,
                          "#7201a8"
                        ],
                        [
                          0.3333333333333333,
                          "#9c179e"
                        ],
                        [
                          0.4444444444444444,
                          "#bd3786"
                        ],
                        [
                          0.5555555555555556,
                          "#d8576b"
                        ],
                        [
                          0.6666666666666666,
                          "#ed7953"
                        ],
                        [
                          0.7777777777777778,
                          "#fb9f3a"
                        ],
                        [
                          0.8888888888888888,
                          "#fdca26"
                        ],
                        [
                          1,
                          "#f0f921"
                        ]
                      ],
                      "type": "surface"
                    }
                  ],
                  "table": [
                    {
                      "cells": {
                        "fill": {
                          "color": "#EBF0F8"
                        },
                        "line": {
                          "color": "white"
                        }
                      },
                      "header": {
                        "fill": {
                          "color": "#C8D4E3"
                        },
                        "line": {
                          "color": "white"
                        }
                      },
                      "type": "table"
                    }
                  ]
                },
                "layout": {
                  "annotationdefaults": {
                    "arrowcolor": "#2a3f5f",
                    "arrowhead": 0,
                    "arrowwidth": 1
                  },
                  "coloraxis": {
                    "colorbar": {
                      "outlinewidth": 0,
                      "ticks": ""
                    }
                  },
                  "colorscale": {
                    "diverging": [
                      [
                        0,
                        "#8e0152"
                      ],
                      [
                        0.1,
                        "#c51b7d"
                      ],
                      [
                        0.2,
                        "#de77ae"
                      ],
                      [
                        0.3,
                        "#f1b6da"
                      ],
                      [
                        0.4,
                        "#fde0ef"
                      ],
                      [
                        0.5,
                        "#f7f7f7"
                      ],
                      [
                        0.6,
                        "#e6f5d0"
                      ],
                      [
                        0.7,
                        "#b8e186"
                      ],
                      [
                        0.8,
                        "#7fbc41"
                      ],
                      [
                        0.9,
                        "#4d9221"
                      ],
                      [
                        1,
                        "#276419"
                      ]
                    ],
                    "sequential": [
                      [
                        0,
                        "#0d0887"
                      ],
                      [
                        0.1111111111111111,
                        "#46039f"
                      ],
                      [
                        0.2222222222222222,
                        "#7201a8"
                      ],
                      [
                        0.3333333333333333,
                        "#9c179e"
                      ],
                      [
                        0.4444444444444444,
                        "#bd3786"
                      ],
                      [
                        0.5555555555555556,
                        "#d8576b"
                      ],
                      [
                        0.6666666666666666,
                        "#ed7953"
                      ],
                      [
                        0.7777777777777778,
                        "#fb9f3a"
                      ],
                      [
                        0.8888888888888888,
                        "#fdca26"
                      ],
                      [
                        1,
                        "#f0f921"
                      ]
                    ],
                    "sequentialminus": [
                      [
                        0,
                        "#0d0887"
                      ],
                      [
                        0.1111111111111111,
                        "#46039f"
                      ],
                      [
                        0.2222222222222222,
                        "#7201a8"
                      ],
                      [
                        0.3333333333333333,
                        "#9c179e"
                      ],
                      [
                        0.4444444444444444,
                        "#bd3786"
                      ],
                      [
                        0.5555555555555556,
                        "#d8576b"
                      ],
                      [
                        0.6666666666666666,
                        "#ed7953"
                      ],
                      [
                        0.7777777777777778,
                        "#fb9f3a"
                      ],
                      [
                        0.8888888888888888,
                        "#fdca26"
                      ],
                      [
                        1,
                        "#f0f921"
                      ]
                    ]
                  },
                  "colorway": [
                    "#636efa",
                    "#EF553B",
                    "#00cc96",
                    "#ab63fa",
                    "#FFA15A",
                    "#19d3f3",
                    "#FF6692",
                    "#B6E880",
                    "#FF97FF",
                    "#FECB52"
                  ],
                  "font": {
                    "color": "#2a3f5f"
                  },
                  "geo": {
                    "bgcolor": "white",
                    "lakecolor": "white",
                    "landcolor": "#E5ECF6",
                    "showlakes": true,
                    "showland": true,
                    "subunitcolor": "white"
                  },
                  "hoverlabel": {
                    "align": "left"
                  },
                  "hovermode": "closest",
                  "mapbox": {
                    "style": "light"
                  },
                  "paper_bgcolor": "white",
                  "plot_bgcolor": "#E5ECF6",
                  "polar": {
                    "angularaxis": {
                      "gridcolor": "white",
                      "linecolor": "white",
                      "ticks": ""
                    },
                    "bgcolor": "#E5ECF6",
                    "radialaxis": {
                      "gridcolor": "white",
                      "linecolor": "white",
                      "ticks": ""
                    }
                  },
                  "scene": {
                    "xaxis": {
                      "backgroundcolor": "#E5ECF6",
                      "gridcolor": "white",
                      "gridwidth": 2,
                      "linecolor": "white",
                      "showbackground": true,
                      "ticks": "",
                      "zerolinecolor": "white"
                    },
                    "yaxis": {
                      "backgroundcolor": "#E5ECF6",
                      "gridcolor": "white",
                      "gridwidth": 2,
                      "linecolor": "white",
                      "showbackground": true,
                      "ticks": "",
                      "zerolinecolor": "white"
                    },
                    "zaxis": {
                      "backgroundcolor": "#E5ECF6",
                      "gridcolor": "white",
                      "gridwidth": 2,
                      "linecolor": "white",
                      "showbackground": true,
                      "ticks": "",
                      "zerolinecolor": "white"
                    }
                  },
                  "shapedefaults": {
                    "line": {
                      "color": "#2a3f5f"
                    }
                  },
                  "ternary": {
                    "aaxis": {
                      "gridcolor": "white",
                      "linecolor": "white",
                      "ticks": ""
                    },
                    "baxis": {
                      "gridcolor": "white",
                      "linecolor": "white",
                      "ticks": ""
                    },
                    "bgcolor": "#E5ECF6",
                    "caxis": {
                      "gridcolor": "white",
                      "linecolor": "white",
                      "ticks": ""
                    }
                  },
                  "title": {
                    "x": 0.05
                  },
                  "xaxis": {
                    "automargin": true,
                    "gridcolor": "white",
                    "linecolor": "white",
                    "ticks": "",
                    "title": {
                      "standoff": 15
                    },
                    "zerolinecolor": "white",
                    "zerolinewidth": 2
                  },
                  "yaxis": {
                    "automargin": true,
                    "gridcolor": "white",
                    "linecolor": "white",
                    "ticks": "",
                    "title": {
                      "standoff": 15
                    },
                    "zerolinecolor": "white",
                    "zerolinewidth": 2
                  }
                }
              },
              "title": {
                "text": "Product P6 in Warehouse W18"
              }
            },
            "_model_module": "plotlywidget",
            "_model_module_version": "^1.4.0",
            "_model_name": "FigureModel",
            "_py2js_addTraces": {},
            "_py2js_animate": {},
            "_py2js_deleteTraces": {},
            "_py2js_moveTraces": {},
            "_py2js_relayout": null,
            "_py2js_removeLayoutProps": {},
            "_py2js_removeTraceProps": {},
            "_py2js_restyle": {},
            "_py2js_update": {},
            "_view_count": 1,
            "_view_module": "plotlywidget",
            "_view_module_version": "^1.4.0",
            "_view_name": "FigureView"
          }
        },
        "2ef2156804e84f6ab29022b1c22b1135": {
          "model_module": "plotlywidget",
          "model_name": "FigureModel",
          "model_module_version": "^1.4.0",
          "state": {
            "_config": {
              "plotlyServerURL": "https://plot.ly"
            },
            "_data": [
              {
                "mode": "markers",
                "name": "Stock Level",
                "x": [
                  "2021-12-12",
                  "2021-12-30",
                  "2022-01-03",
                  "2022-01-19",
                  "2022-03-24",
                  "2022-06-15",
                  "2022-06-30",
                  "2022-07-10",
                  "2022-07-24",
                  "2022-08-15",
                  "2022-08-16",
                  "2022-09-03",
                  "2022-10-16",
                  "2022-11-16",
                  "2023-01-20",
                  "2023-01-25",
                  "2023-01-28",
                  "2023-02-16",
                  "2023-03-03",
                  "2023-04-13",
                  "2023-04-22",
                  "2023-04-23",
                  "2023-04-27",
                  "2023-05-15",
                  "2023-06-03",
                  "2023-09-10",
                  "2023-09-29",
                  "2023-10-21",
                  "2023-06-01",
                  "2023-06-01",
                  "2022-10-14",
                  "2022-11-27",
                  "2022-10-08",
                  "2023-01-24",
                  "2022-11-07",
                  "2022-02-04",
                  "2022-12-03",
                  "2022-05-05",
                  "2022-05-08",
                  "2022-11-15",
                  "2021-10-28",
                  "2023-07-17",
                  "2021-12-17",
                  "2022-09-15",
                  "2022-07-22",
                  "2023-03-22"
                ],
                "y": {
                  "dtype": "float64",
                  "shape": [
                    46
                  ]
                },
                "type": "scatter",
                "uid": "0a063fa4-56da-4284-91f6-01210503023a"
              },
              {
                "mode": "markers",
                "name": "Quantity Ordered",
                "x": [
                  "2021-12-12",
                  "2021-12-30",
                  "2022-01-03",
                  "2022-01-19",
                  "2022-03-24",
                  "2022-06-15",
                  "2022-06-30",
                  "2022-07-10",
                  "2022-07-24",
                  "2022-08-15",
                  "2022-08-16",
                  "2022-09-03",
                  "2022-10-16",
                  "2022-11-16",
                  "2023-01-20",
                  "2023-01-25",
                  "2023-01-28",
                  "2023-02-16",
                  "2023-03-03",
                  "2023-04-13",
                  "2023-04-22",
                  "2023-04-23",
                  "2023-04-27",
                  "2023-05-15",
                  "2023-06-03",
                  "2023-09-10",
                  "2023-09-29",
                  "2023-10-21",
                  "2023-06-01",
                  "2023-06-01",
                  "2022-10-14",
                  "2022-11-27",
                  "2022-10-08",
                  "2023-01-24",
                  "2022-11-07",
                  "2022-02-04",
                  "2022-12-03",
                  "2022-05-05",
                  "2022-05-08",
                  "2022-11-15",
                  "2021-10-28",
                  "2023-07-17",
                  "2021-12-17",
                  "2022-09-15",
                  "2022-07-22",
                  "2023-03-22"
                ],
                "y": {
                  "dtype": "float64",
                  "shape": [
                    46
                  ]
                },
                "type": "scatter",
                "uid": "efda4288-908d-41c7-a5a9-d6f88ab285d0"
              }
            ],
            "_dom_classes": [],
            "_js2py_layoutDelta": null,
            "_js2py_pointsCallback": {},
            "_js2py_relayout": {},
            "_js2py_restyle": {},
            "_js2py_traceDeltas": null,
            "_js2py_update": {},
            "_last_layout_edit_id": 0,
            "_last_trace_edit_id": 0,
            "_layout": {
              "annotations": [
                {
                  "arrowhead": 1,
                  "showarrow": true,
                  "text": "Under_stock",
                  "x": "2022-03-24",
                  "y": 112
                },
                {
                  "arrowhead": 1,
                  "showarrow": true,
                  "text": "Under_stock",
                  "x": "2022-06-30",
                  "y": 26
                },
                {
                  "arrowhead": 1,
                  "showarrow": true,
                  "text": "Under_stock",
                  "x": "2022-08-16",
                  "y": 35
                },
                {
                  "arrowhead": 1,
                  "showarrow": true,
                  "text": "Under_stock",
                  "x": "2023-04-22",
                  "y": 114
                }
              ],
              "template": {
                "data": {
                  "barpolar": [
                    {
                      "marker": {
                        "line": {
                          "color": "#E5ECF6",
                          "width": 0.5
                        }
                      },
                      "type": "barpolar"
                    }
                  ],
                  "bar": [
                    {
                      "error_x": {
                        "color": "#2a3f5f"
                      },
                      "error_y": {
                        "color": "#2a3f5f"
                      },
                      "marker": {
                        "line": {
                          "color": "#E5ECF6",
                          "width": 0.5
                        }
                      },
                      "type": "bar"
                    }
                  ],
                  "carpet": [
                    {
                      "aaxis": {
                        "endlinecolor": "#2a3f5f",
                        "gridcolor": "white",
                        "linecolor": "white",
                        "minorgridcolor": "white",
                        "startlinecolor": "#2a3f5f"
                      },
                      "baxis": {
                        "endlinecolor": "#2a3f5f",
                        "gridcolor": "white",
                        "linecolor": "white",
                        "minorgridcolor": "white",
                        "startlinecolor": "#2a3f5f"
                      },
                      "type": "carpet"
                    }
                  ],
                  "choropleth": [
                    {
                      "colorbar": {
                        "outlinewidth": 0,
                        "ticks": ""
                      },
                      "type": "choropleth"
                    }
                  ],
                  "contourcarpet": [
                    {
                      "colorbar": {
                        "outlinewidth": 0,
                        "ticks": ""
                      },
                      "type": "contourcarpet"
                    }
                  ],
                  "contour": [
                    {
                      "colorbar": {
                        "outlinewidth": 0,
                        "ticks": ""
                      },
                      "colorscale": [
                        [
                          0,
                          "#0d0887"
                        ],
                        [
                          0.1111111111111111,
                          "#46039f"
                        ],
                        [
                          0.2222222222222222,
                          "#7201a8"
                        ],
                        [
                          0.3333333333333333,
                          "#9c179e"
                        ],
                        [
                          0.4444444444444444,
                          "#bd3786"
                        ],
                        [
                          0.5555555555555556,
                          "#d8576b"
                        ],
                        [
                          0.6666666666666666,
                          "#ed7953"
                        ],
                        [
                          0.7777777777777778,
                          "#fb9f3a"
                        ],
                        [
                          0.8888888888888888,
                          "#fdca26"
                        ],
                        [
                          1,
                          "#f0f921"
                        ]
                      ],
                      "type": "contour"
                    }
                  ],
                  "heatmapgl": [
                    {
                      "colorbar": {
                        "outlinewidth": 0,
                        "ticks": ""
                      },
                      "colorscale": [
                        [
                          0,
                          "#0d0887"
                        ],
                        [
                          0.1111111111111111,
                          "#46039f"
                        ],
                        [
                          0.2222222222222222,
                          "#7201a8"
                        ],
                        [
                          0.3333333333333333,
                          "#9c179e"
                        ],
                        [
                          0.4444444444444444,
                          "#bd3786"
                        ],
                        [
                          0.5555555555555556,
                          "#d8576b"
                        ],
                        [
                          0.6666666666666666,
                          "#ed7953"
                        ],
                        [
                          0.7777777777777778,
                          "#fb9f3a"
                        ],
                        [
                          0.8888888888888888,
                          "#fdca26"
                        ],
                        [
                          1,
                          "#f0f921"
                        ]
                      ],
                      "type": "heatmapgl"
                    }
                  ],
                  "heatmap": [
                    {
                      "colorbar": {
                        "outlinewidth": 0,
                        "ticks": ""
                      },
                      "colorscale": [
                        [
                          0,
                          "#0d0887"
                        ],
                        [
                          0.1111111111111111,
                          "#46039f"
                        ],
                        [
                          0.2222222222222222,
                          "#7201a8"
                        ],
                        [
                          0.3333333333333333,
                          "#9c179e"
                        ],
                        [
                          0.4444444444444444,
                          "#bd3786"
                        ],
                        [
                          0.5555555555555556,
                          "#d8576b"
                        ],
                        [
                          0.6666666666666666,
                          "#ed7953"
                        ],
                        [
                          0.7777777777777778,
                          "#fb9f3a"
                        ],
                        [
                          0.8888888888888888,
                          "#fdca26"
                        ],
                        [
                          1,
                          "#f0f921"
                        ]
                      ],
                      "type": "heatmap"
                    }
                  ],
                  "histogram2dcontour": [
                    {
                      "colorbar": {
                        "outlinewidth": 0,
                        "ticks": ""
                      },
                      "colorscale": [
                        [
                          0,
                          "#0d0887"
                        ],
                        [
                          0.1111111111111111,
                          "#46039f"
                        ],
                        [
                          0.2222222222222222,
                          "#7201a8"
                        ],
                        [
                          0.3333333333333333,
                          "#9c179e"
                        ],
                        [
                          0.4444444444444444,
                          "#bd3786"
                        ],
                        [
                          0.5555555555555556,
                          "#d8576b"
                        ],
                        [
                          0.6666666666666666,
                          "#ed7953"
                        ],
                        [
                          0.7777777777777778,
                          "#fb9f3a"
                        ],
                        [
                          0.8888888888888888,
                          "#fdca26"
                        ],
                        [
                          1,
                          "#f0f921"
                        ]
                      ],
                      "type": "histogram2dcontour"
                    }
                  ],
                  "histogram2d": [
                    {
                      "colorbar": {
                        "outlinewidth": 0,
                        "ticks": ""
                      },
                      "colorscale": [
                        [
                          0,
                          "#0d0887"
                        ],
                        [
                          0.1111111111111111,
                          "#46039f"
                        ],
                        [
                          0.2222222222222222,
                          "#7201a8"
                        ],
                        [
                          0.3333333333333333,
                          "#9c179e"
                        ],
                        [
                          0.4444444444444444,
                          "#bd3786"
                        ],
                        [
                          0.5555555555555556,
                          "#d8576b"
                        ],
                        [
                          0.6666666666666666,
                          "#ed7953"
                        ],
                        [
                          0.7777777777777778,
                          "#fb9f3a"
                        ],
                        [
                          0.8888888888888888,
                          "#fdca26"
                        ],
                        [
                          1,
                          "#f0f921"
                        ]
                      ],
                      "type": "histogram2d"
                    }
                  ],
                  "histogram": [
                    {
                      "marker": {
                        "colorbar": {
                          "outlinewidth": 0,
                          "ticks": ""
                        }
                      },
                      "type": "histogram"
                    }
                  ],
                  "mesh3d": [
                    {
                      "colorbar": {
                        "outlinewidth": 0,
                        "ticks": ""
                      },
                      "type": "mesh3d"
                    }
                  ],
                  "parcoords": [
                    {
                      "line": {
                        "colorbar": {
                          "outlinewidth": 0,
                          "ticks": ""
                        }
                      },
                      "type": "parcoords"
                    }
                  ],
                  "pie": [
                    {
                      "automargin": true,
                      "type": "pie"
                    }
                  ],
                  "scatter3d": [
                    {
                      "line": {
                        "colorbar": {
                          "outlinewidth": 0,
                          "ticks": ""
                        }
                      },
                      "marker": {
                        "colorbar": {
                          "outlinewidth": 0,
                          "ticks": ""
                        }
                      },
                      "type": "scatter3d"
                    }
                  ],
                  "scattercarpet": [
                    {
                      "marker": {
                        "colorbar": {
                          "outlinewidth": 0,
                          "ticks": ""
                        }
                      },
                      "type": "scattercarpet"
                    }
                  ],
                  "scattergeo": [
                    {
                      "marker": {
                        "colorbar": {
                          "outlinewidth": 0,
                          "ticks": ""
                        }
                      },
                      "type": "scattergeo"
                    }
                  ],
                  "scattergl": [
                    {
                      "marker": {
                        "colorbar": {
                          "outlinewidth": 0,
                          "ticks": ""
                        }
                      },
                      "type": "scattergl"
                    }
                  ],
                  "scattermapbox": [
                    {
                      "marker": {
                        "colorbar": {
                          "outlinewidth": 0,
                          "ticks": ""
                        }
                      },
                      "type": "scattermapbox"
                    }
                  ],
                  "scatterpolargl": [
                    {
                      "marker": {
                        "colorbar": {
                          "outlinewidth": 0,
                          "ticks": ""
                        }
                      },
                      "type": "scatterpolargl"
                    }
                  ],
                  "scatterpolar": [
                    {
                      "marker": {
                        "colorbar": {
                          "outlinewidth": 0,
                          "ticks": ""
                        }
                      },
                      "type": "scatterpolar"
                    }
                  ],
                  "scatter": [
                    {
                      "marker": {
                        "colorbar": {
                          "outlinewidth": 0,
                          "ticks": ""
                        }
                      },
                      "type": "scatter"
                    }
                  ],
                  "scatterternary": [
                    {
                      "marker": {
                        "colorbar": {
                          "outlinewidth": 0,
                          "ticks": ""
                        }
                      },
                      "type": "scatterternary"
                    }
                  ],
                  "surface": [
                    {
                      "colorbar": {
                        "outlinewidth": 0,
                        "ticks": ""
                      },
                      "colorscale": [
                        [
                          0,
                          "#0d0887"
                        ],
                        [
                          0.1111111111111111,
                          "#46039f"
                        ],
                        [
                          0.2222222222222222,
                          "#7201a8"
                        ],
                        [
                          0.3333333333333333,
                          "#9c179e"
                        ],
                        [
                          0.4444444444444444,
                          "#bd3786"
                        ],
                        [
                          0.5555555555555556,
                          "#d8576b"
                        ],
                        [
                          0.6666666666666666,
                          "#ed7953"
                        ],
                        [
                          0.7777777777777778,
                          "#fb9f3a"
                        ],
                        [
                          0.8888888888888888,
                          "#fdca26"
                        ],
                        [
                          1,
                          "#f0f921"
                        ]
                      ],
                      "type": "surface"
                    }
                  ],
                  "table": [
                    {
                      "cells": {
                        "fill": {
                          "color": "#EBF0F8"
                        },
                        "line": {
                          "color": "white"
                        }
                      },
                      "header": {
                        "fill": {
                          "color": "#C8D4E3"
                        },
                        "line": {
                          "color": "white"
                        }
                      },
                      "type": "table"
                    }
                  ]
                },
                "layout": {
                  "annotationdefaults": {
                    "arrowcolor": "#2a3f5f",
                    "arrowhead": 0,
                    "arrowwidth": 1
                  },
                  "coloraxis": {
                    "colorbar": {
                      "outlinewidth": 0,
                      "ticks": ""
                    }
                  },
                  "colorscale": {
                    "diverging": [
                      [
                        0,
                        "#8e0152"
                      ],
                      [
                        0.1,
                        "#c51b7d"
                      ],
                      [
                        0.2,
                        "#de77ae"
                      ],
                      [
                        0.3,
                        "#f1b6da"
                      ],
                      [
                        0.4,
                        "#fde0ef"
                      ],
                      [
                        0.5,
                        "#f7f7f7"
                      ],
                      [
                        0.6,
                        "#e6f5d0"
                      ],
                      [
                        0.7,
                        "#b8e186"
                      ],
                      [
                        0.8,
                        "#7fbc41"
                      ],
                      [
                        0.9,
                        "#4d9221"
                      ],
                      [
                        1,
                        "#276419"
                      ]
                    ],
                    "sequential": [
                      [
                        0,
                        "#0d0887"
                      ],
                      [
                        0.1111111111111111,
                        "#46039f"
                      ],
                      [
                        0.2222222222222222,
                        "#7201a8"
                      ],
                      [
                        0.3333333333333333,
                        "#9c179e"
                      ],
                      [
                        0.4444444444444444,
                        "#bd3786"
                      ],
                      [
                        0.5555555555555556,
                        "#d8576b"
                      ],
                      [
                        0.6666666666666666,
                        "#ed7953"
                      ],
                      [
                        0.7777777777777778,
                        "#fb9f3a"
                      ],
                      [
                        0.8888888888888888,
                        "#fdca26"
                      ],
                      [
                        1,
                        "#f0f921"
                      ]
                    ],
                    "sequentialminus": [
                      [
                        0,
                        "#0d0887"
                      ],
                      [
                        0.1111111111111111,
                        "#46039f"
                      ],
                      [
                        0.2222222222222222,
                        "#7201a8"
                      ],
                      [
                        0.3333333333333333,
                        "#9c179e"
                      ],
                      [
                        0.4444444444444444,
                        "#bd3786"
                      ],
                      [
                        0.5555555555555556,
                        "#d8576b"
                      ],
                      [
                        0.6666666666666666,
                        "#ed7953"
                      ],
                      [
                        0.7777777777777778,
                        "#fb9f3a"
                      ],
                      [
                        0.8888888888888888,
                        "#fdca26"
                      ],
                      [
                        1,
                        "#f0f921"
                      ]
                    ]
                  },
                  "colorway": [
                    "#636efa",
                    "#EF553B",
                    "#00cc96",
                    "#ab63fa",
                    "#FFA15A",
                    "#19d3f3",
                    "#FF6692",
                    "#B6E880",
                    "#FF97FF",
                    "#FECB52"
                  ],
                  "font": {
                    "color": "#2a3f5f"
                  },
                  "geo": {
                    "bgcolor": "white",
                    "lakecolor": "white",
                    "landcolor": "#E5ECF6",
                    "showlakes": true,
                    "showland": true,
                    "subunitcolor": "white"
                  },
                  "hoverlabel": {
                    "align": "left"
                  },
                  "hovermode": "closest",
                  "mapbox": {
                    "style": "light"
                  },
                  "paper_bgcolor": "white",
                  "plot_bgcolor": "#E5ECF6",
                  "polar": {
                    "angularaxis": {
                      "gridcolor": "white",
                      "linecolor": "white",
                      "ticks": ""
                    },
                    "bgcolor": "#E5ECF6",
                    "radialaxis": {
                      "gridcolor": "white",
                      "linecolor": "white",
                      "ticks": ""
                    }
                  },
                  "scene": {
                    "xaxis": {
                      "backgroundcolor": "#E5ECF6",
                      "gridcolor": "white",
                      "gridwidth": 2,
                      "linecolor": "white",
                      "showbackground": true,
                      "ticks": "",
                      "zerolinecolor": "white"
                    },
                    "yaxis": {
                      "backgroundcolor": "#E5ECF6",
                      "gridcolor": "white",
                      "gridwidth": 2,
                      "linecolor": "white",
                      "showbackground": true,
                      "ticks": "",
                      "zerolinecolor": "white"
                    },
                    "zaxis": {
                      "backgroundcolor": "#E5ECF6",
                      "gridcolor": "white",
                      "gridwidth": 2,
                      "linecolor": "white",
                      "showbackground": true,
                      "ticks": "",
                      "zerolinecolor": "white"
                    }
                  },
                  "shapedefaults": {
                    "line": {
                      "color": "#2a3f5f"
                    }
                  },
                  "ternary": {
                    "aaxis": {
                      "gridcolor": "white",
                      "linecolor": "white",
                      "ticks": ""
                    },
                    "baxis": {
                      "gridcolor": "white",
                      "linecolor": "white",
                      "ticks": ""
                    },
                    "bgcolor": "#E5ECF6",
                    "caxis": {
                      "gridcolor": "white",
                      "linecolor": "white",
                      "ticks": ""
                    }
                  },
                  "title": {
                    "x": 0.05
                  },
                  "xaxis": {
                    "automargin": true,
                    "gridcolor": "white",
                    "linecolor": "white",
                    "ticks": "",
                    "title": {
                      "standoff": 15
                    },
                    "zerolinecolor": "white",
                    "zerolinewidth": 2
                  },
                  "yaxis": {
                    "automargin": true,
                    "gridcolor": "white",
                    "linecolor": "white",
                    "ticks": "",
                    "title": {
                      "standoff": 15
                    },
                    "zerolinecolor": "white",
                    "zerolinewidth": 2
                  }
                }
              },
              "title": {
                "text": "Product P6 in Warehouse W13"
              }
            },
            "_model_module": "plotlywidget",
            "_model_module_version": "^1.4.0",
            "_model_name": "FigureModel",
            "_py2js_addTraces": {},
            "_py2js_animate": {},
            "_py2js_deleteTraces": {},
            "_py2js_moveTraces": {},
            "_py2js_relayout": {},
            "_py2js_removeLayoutProps": {},
            "_py2js_removeTraceProps": {},
            "_py2js_restyle": {},
            "_py2js_update": {},
            "_view_count": 1,
            "_view_module": "plotlywidget",
            "_view_module_version": "^1.4.0",
            "_view_name": "FigureView"
          }
        },
        "1d88cb7b9b214312b8751a5e89d41782": {
          "model_module": "plotlywidget",
          "model_name": "FigureModel",
          "model_module_version": "^1.4.0",
          "state": {
            "_config": {
              "plotlyServerURL": "https://plot.ly"
            },
            "_data": [
              {
                "mode": "markers",
                "name": "Stock Level",
                "x": [
                  "2021-11-01",
                  "2021-11-08",
                  "2022-01-05",
                  "2022-01-10",
                  "2022-01-11",
                  "2022-01-18",
                  "2022-02-10",
                  "2022-02-17",
                  "2022-02-20",
                  "2022-03-03",
                  "2022-04-06",
                  "2022-04-21",
                  "2022-05-15",
                  "2022-06-10",
                  "2022-07-16",
                  "2022-08-23",
                  "2022-10-05",
                  "2022-10-11",
                  "2022-11-26",
                  "2023-01-18",
                  "2023-02-08",
                  "2023-03-10",
                  "2023-03-21",
                  "2023-05-14",
                  "2023-05-18",
                  "2023-05-24",
                  "2023-07-13",
                  "2023-07-20",
                  "2023-10-18",
                  "2022-02-19",
                  "2023-03-18",
                  "2022-06-29",
                  "2023-09-16",
                  "2022-04-11",
                  "2022-10-14",
                  "2022-09-06",
                  "2022-12-11",
                  "2022-07-10",
                  "2022-01-02",
                  "2023-01-13",
                  "2021-12-24",
                  "2022-04-26",
                  "2023-04-26",
                  "2023-10-17",
                  "2022-09-05",
                  "2022-09-05",
                  "2023-02-26",
                  "2021-11-12",
                  "2022-05-08",
                  "2023-08-05",
                  "2023-07-17",
                  "2023-04-03"
                ],
                "y": {
                  "dtype": "float64",
                  "shape": [
                    52
                  ]
                },
                "type": "scatter",
                "uid": "6d24dfb8-5824-45be-99b8-c59393560302"
              },
              {
                "mode": "markers",
                "name": "Quantity Ordered",
                "x": [
                  "2021-11-01",
                  "2021-11-08",
                  "2022-01-05",
                  "2022-01-10",
                  "2022-01-11",
                  "2022-01-18",
                  "2022-02-10",
                  "2022-02-17",
                  "2022-02-20",
                  "2022-03-03",
                  "2022-04-06",
                  "2022-04-21",
                  "2022-05-15",
                  "2022-06-10",
                  "2022-07-16",
                  "2022-08-23",
                  "2022-10-05",
                  "2022-10-11",
                  "2022-11-26",
                  "2023-01-18",
                  "2023-02-08",
                  "2023-03-10",
                  "2023-03-21",
                  "2023-05-14",
                  "2023-05-18",
                  "2023-05-24",
                  "2023-07-13",
                  "2023-07-20",
                  "2023-10-18",
                  "2022-02-19",
                  "2023-03-18",
                  "2022-06-29",
                  "2023-09-16",
                  "2022-04-11",
                  "2022-10-14",
                  "2022-09-06",
                  "2022-12-11",
                  "2022-07-10",
                  "2022-01-02",
                  "2023-01-13",
                  "2021-12-24",
                  "2022-04-26",
                  "2023-04-26",
                  "2023-10-17",
                  "2022-09-05",
                  "2022-09-05",
                  "2023-02-26",
                  "2021-11-12",
                  "2022-05-08",
                  "2023-08-05",
                  "2023-07-17",
                  "2023-04-03"
                ],
                "y": {
                  "dtype": "float64",
                  "shape": [
                    52
                  ]
                },
                "type": "scatter",
                "uid": "5082fc5b-ab08-41aa-a705-85e73acd623b"
              }
            ],
            "_dom_classes": [],
            "_js2py_layoutDelta": null,
            "_js2py_pointsCallback": null,
            "_js2py_relayout": {},
            "_js2py_restyle": {},
            "_js2py_traceDeltas": null,
            "_js2py_update": {},
            "_last_layout_edit_id": 0,
            "_last_trace_edit_id": 0,
            "_layout": {
              "annotations": [
                {
                  "arrowhead": 1,
                  "showarrow": true,
                  "text": "Under_stock",
                  "x": "2023-05-14",
                  "y": 61
                },
                {
                  "arrowhead": 1,
                  "showarrow": true,
                  "text": "Under_stock",
                  "x": "2023-07-20",
                  "y": 8
                }
              ],
              "template": {
                "data": {
                  "barpolar": [
                    {
                      "marker": {
                        "line": {
                          "color": "#E5ECF6",
                          "width": 0.5
                        }
                      },
                      "type": "barpolar"
                    }
                  ],
                  "bar": [
                    {
                      "error_x": {
                        "color": "#2a3f5f"
                      },
                      "error_y": {
                        "color": "#2a3f5f"
                      },
                      "marker": {
                        "line": {
                          "color": "#E5ECF6",
                          "width": 0.5
                        }
                      },
                      "type": "bar"
                    }
                  ],
                  "carpet": [
                    {
                      "aaxis": {
                        "endlinecolor": "#2a3f5f",
                        "gridcolor": "white",
                        "linecolor": "white",
                        "minorgridcolor": "white",
                        "startlinecolor": "#2a3f5f"
                      },
                      "baxis": {
                        "endlinecolor": "#2a3f5f",
                        "gridcolor": "white",
                        "linecolor": "white",
                        "minorgridcolor": "white",
                        "startlinecolor": "#2a3f5f"
                      },
                      "type": "carpet"
                    }
                  ],
                  "choropleth": [
                    {
                      "colorbar": {
                        "outlinewidth": 0,
                        "ticks": ""
                      },
                      "type": "choropleth"
                    }
                  ],
                  "contourcarpet": [
                    {
                      "colorbar": {
                        "outlinewidth": 0,
                        "ticks": ""
                      },
                      "type": "contourcarpet"
                    }
                  ],
                  "contour": [
                    {
                      "colorbar": {
                        "outlinewidth": 0,
                        "ticks": ""
                      },
                      "colorscale": [
                        [
                          0,
                          "#0d0887"
                        ],
                        [
                          0.1111111111111111,
                          "#46039f"
                        ],
                        [
                          0.2222222222222222,
                          "#7201a8"
                        ],
                        [
                          0.3333333333333333,
                          "#9c179e"
                        ],
                        [
                          0.4444444444444444,
                          "#bd3786"
                        ],
                        [
                          0.5555555555555556,
                          "#d8576b"
                        ],
                        [
                          0.6666666666666666,
                          "#ed7953"
                        ],
                        [
                          0.7777777777777778,
                          "#fb9f3a"
                        ],
                        [
                          0.8888888888888888,
                          "#fdca26"
                        ],
                        [
                          1,
                          "#f0f921"
                        ]
                      ],
                      "type": "contour"
                    }
                  ],
                  "heatmapgl": [
                    {
                      "colorbar": {
                        "outlinewidth": 0,
                        "ticks": ""
                      },
                      "colorscale": [
                        [
                          0,
                          "#0d0887"
                        ],
                        [
                          0.1111111111111111,
                          "#46039f"
                        ],
                        [
                          0.2222222222222222,
                          "#7201a8"
                        ],
                        [
                          0.3333333333333333,
                          "#9c179e"
                        ],
                        [
                          0.4444444444444444,
                          "#bd3786"
                        ],
                        [
                          0.5555555555555556,
                          "#d8576b"
                        ],
                        [
                          0.6666666666666666,
                          "#ed7953"
                        ],
                        [
                          0.7777777777777778,
                          "#fb9f3a"
                        ],
                        [
                          0.8888888888888888,
                          "#fdca26"
                        ],
                        [
                          1,
                          "#f0f921"
                        ]
                      ],
                      "type": "heatmapgl"
                    }
                  ],
                  "heatmap": [
                    {
                      "colorbar": {
                        "outlinewidth": 0,
                        "ticks": ""
                      },
                      "colorscale": [
                        [
                          0,
                          "#0d0887"
                        ],
                        [
                          0.1111111111111111,
                          "#46039f"
                        ],
                        [
                          0.2222222222222222,
                          "#7201a8"
                        ],
                        [
                          0.3333333333333333,
                          "#9c179e"
                        ],
                        [
                          0.4444444444444444,
                          "#bd3786"
                        ],
                        [
                          0.5555555555555556,
                          "#d8576b"
                        ],
                        [
                          0.6666666666666666,
                          "#ed7953"
                        ],
                        [
                          0.7777777777777778,
                          "#fb9f3a"
                        ],
                        [
                          0.8888888888888888,
                          "#fdca26"
                        ],
                        [
                          1,
                          "#f0f921"
                        ]
                      ],
                      "type": "heatmap"
                    }
                  ],
                  "histogram2dcontour": [
                    {
                      "colorbar": {
                        "outlinewidth": 0,
                        "ticks": ""
                      },
                      "colorscale": [
                        [
                          0,
                          "#0d0887"
                        ],
                        [
                          0.1111111111111111,
                          "#46039f"
                        ],
                        [
                          0.2222222222222222,
                          "#7201a8"
                        ],
                        [
                          0.3333333333333333,
                          "#9c179e"
                        ],
                        [
                          0.4444444444444444,
                          "#bd3786"
                        ],
                        [
                          0.5555555555555556,
                          "#d8576b"
                        ],
                        [
                          0.6666666666666666,
                          "#ed7953"
                        ],
                        [
                          0.7777777777777778,
                          "#fb9f3a"
                        ],
                        [
                          0.8888888888888888,
                          "#fdca26"
                        ],
                        [
                          1,
                          "#f0f921"
                        ]
                      ],
                      "type": "histogram2dcontour"
                    }
                  ],
                  "histogram2d": [
                    {
                      "colorbar": {
                        "outlinewidth": 0,
                        "ticks": ""
                      },
                      "colorscale": [
                        [
                          0,
                          "#0d0887"
                        ],
                        [
                          0.1111111111111111,
                          "#46039f"
                        ],
                        [
                          0.2222222222222222,
                          "#7201a8"
                        ],
                        [
                          0.3333333333333333,
                          "#9c179e"
                        ],
                        [
                          0.4444444444444444,
                          "#bd3786"
                        ],
                        [
                          0.5555555555555556,
                          "#d8576b"
                        ],
                        [
                          0.6666666666666666,
                          "#ed7953"
                        ],
                        [
                          0.7777777777777778,
                          "#fb9f3a"
                        ],
                        [
                          0.8888888888888888,
                          "#fdca26"
                        ],
                        [
                          1,
                          "#f0f921"
                        ]
                      ],
                      "type": "histogram2d"
                    }
                  ],
                  "histogram": [
                    {
                      "marker": {
                        "colorbar": {
                          "outlinewidth": 0,
                          "ticks": ""
                        }
                      },
                      "type": "histogram"
                    }
                  ],
                  "mesh3d": [
                    {
                      "colorbar": {
                        "outlinewidth": 0,
                        "ticks": ""
                      },
                      "type": "mesh3d"
                    }
                  ],
                  "parcoords": [
                    {
                      "line": {
                        "colorbar": {
                          "outlinewidth": 0,
                          "ticks": ""
                        }
                      },
                      "type": "parcoords"
                    }
                  ],
                  "pie": [
                    {
                      "automargin": true,
                      "type": "pie"
                    }
                  ],
                  "scatter3d": [
                    {
                      "line": {
                        "colorbar": {
                          "outlinewidth": 0,
                          "ticks": ""
                        }
                      },
                      "marker": {
                        "colorbar": {
                          "outlinewidth": 0,
                          "ticks": ""
                        }
                      },
                      "type": "scatter3d"
                    }
                  ],
                  "scattercarpet": [
                    {
                      "marker": {
                        "colorbar": {
                          "outlinewidth": 0,
                          "ticks": ""
                        }
                      },
                      "type": "scattercarpet"
                    }
                  ],
                  "scattergeo": [
                    {
                      "marker": {
                        "colorbar": {
                          "outlinewidth": 0,
                          "ticks": ""
                        }
                      },
                      "type": "scattergeo"
                    }
                  ],
                  "scattergl": [
                    {
                      "marker": {
                        "colorbar": {
                          "outlinewidth": 0,
                          "ticks": ""
                        }
                      },
                      "type": "scattergl"
                    }
                  ],
                  "scattermapbox": [
                    {
                      "marker": {
                        "colorbar": {
                          "outlinewidth": 0,
                          "ticks": ""
                        }
                      },
                      "type": "scattermapbox"
                    }
                  ],
                  "scatterpolargl": [
                    {
                      "marker": {
                        "colorbar": {
                          "outlinewidth": 0,
                          "ticks": ""
                        }
                      },
                      "type": "scatterpolargl"
                    }
                  ],
                  "scatterpolar": [
                    {
                      "marker": {
                        "colorbar": {
                          "outlinewidth": 0,
                          "ticks": ""
                        }
                      },
                      "type": "scatterpolar"
                    }
                  ],
                  "scatter": [
                    {
                      "marker": {
                        "colorbar": {
                          "outlinewidth": 0,
                          "ticks": ""
                        }
                      },
                      "type": "scatter"
                    }
                  ],
                  "scatterternary": [
                    {
                      "marker": {
                        "colorbar": {
                          "outlinewidth": 0,
                          "ticks": ""
                        }
                      },
                      "type": "scatterternary"
                    }
                  ],
                  "surface": [
                    {
                      "colorbar": {
                        "outlinewidth": 0,
                        "ticks": ""
                      },
                      "colorscale": [
                        [
                          0,
                          "#0d0887"
                        ],
                        [
                          0.1111111111111111,
                          "#46039f"
                        ],
                        [
                          0.2222222222222222,
                          "#7201a8"
                        ],
                        [
                          0.3333333333333333,
                          "#9c179e"
                        ],
                        [
                          0.4444444444444444,
                          "#bd3786"
                        ],
                        [
                          0.5555555555555556,
                          "#d8576b"
                        ],
                        [
                          0.6666666666666666,
                          "#ed7953"
                        ],
                        [
                          0.7777777777777778,
                          "#fb9f3a"
                        ],
                        [
                          0.8888888888888888,
                          "#fdca26"
                        ],
                        [
                          1,
                          "#f0f921"
                        ]
                      ],
                      "type": "surface"
                    }
                  ],
                  "table": [
                    {
                      "cells": {
                        "fill": {
                          "color": "#EBF0F8"
                        },
                        "line": {
                          "color": "white"
                        }
                      },
                      "header": {
                        "fill": {
                          "color": "#C8D4E3"
                        },
                        "line": {
                          "color": "white"
                        }
                      },
                      "type": "table"
                    }
                  ]
                },
                "layout": {
                  "annotationdefaults": {
                    "arrowcolor": "#2a3f5f",
                    "arrowhead": 0,
                    "arrowwidth": 1
                  },
                  "coloraxis": {
                    "colorbar": {
                      "outlinewidth": 0,
                      "ticks": ""
                    }
                  },
                  "colorscale": {
                    "diverging": [
                      [
                        0,
                        "#8e0152"
                      ],
                      [
                        0.1,
                        "#c51b7d"
                      ],
                      [
                        0.2,
                        "#de77ae"
                      ],
                      [
                        0.3,
                        "#f1b6da"
                      ],
                      [
                        0.4,
                        "#fde0ef"
                      ],
                      [
                        0.5,
                        "#f7f7f7"
                      ],
                      [
                        0.6,
                        "#e6f5d0"
                      ],
                      [
                        0.7,
                        "#b8e186"
                      ],
                      [
                        0.8,
                        "#7fbc41"
                      ],
                      [
                        0.9,
                        "#4d9221"
                      ],
                      [
                        1,
                        "#276419"
                      ]
                    ],
                    "sequential": [
                      [
                        0,
                        "#0d0887"
                      ],
                      [
                        0.1111111111111111,
                        "#46039f"
                      ],
                      [
                        0.2222222222222222,
                        "#7201a8"
                      ],
                      [
                        0.3333333333333333,
                        "#9c179e"
                      ],
                      [
                        0.4444444444444444,
                        "#bd3786"
                      ],
                      [
                        0.5555555555555556,
                        "#d8576b"
                      ],
                      [
                        0.6666666666666666,
                        "#ed7953"
                      ],
                      [
                        0.7777777777777778,
                        "#fb9f3a"
                      ],
                      [
                        0.8888888888888888,
                        "#fdca26"
                      ],
                      [
                        1,
                        "#f0f921"
                      ]
                    ],
                    "sequentialminus": [
                      [
                        0,
                        "#0d0887"
                      ],
                      [
                        0.1111111111111111,
                        "#46039f"
                      ],
                      [
                        0.2222222222222222,
                        "#7201a8"
                      ],
                      [
                        0.3333333333333333,
                        "#9c179e"
                      ],
                      [
                        0.4444444444444444,
                        "#bd3786"
                      ],
                      [
                        0.5555555555555556,
                        "#d8576b"
                      ],
                      [
                        0.6666666666666666,
                        "#ed7953"
                      ],
                      [
                        0.7777777777777778,
                        "#fb9f3a"
                      ],
                      [
                        0.8888888888888888,
                        "#fdca26"
                      ],
                      [
                        1,
                        "#f0f921"
                      ]
                    ]
                  },
                  "colorway": [
                    "#636efa",
                    "#EF553B",
                    "#00cc96",
                    "#ab63fa",
                    "#FFA15A",
                    "#19d3f3",
                    "#FF6692",
                    "#B6E880",
                    "#FF97FF",
                    "#FECB52"
                  ],
                  "font": {
                    "color": "#2a3f5f"
                  },
                  "geo": {
                    "bgcolor": "white",
                    "lakecolor": "white",
                    "landcolor": "#E5ECF6",
                    "showlakes": true,
                    "showland": true,
                    "subunitcolor": "white"
                  },
                  "hoverlabel": {
                    "align": "left"
                  },
                  "hovermode": "closest",
                  "mapbox": {
                    "style": "light"
                  },
                  "paper_bgcolor": "white",
                  "plot_bgcolor": "#E5ECF6",
                  "polar": {
                    "angularaxis": {
                      "gridcolor": "white",
                      "linecolor": "white",
                      "ticks": ""
                    },
                    "bgcolor": "#E5ECF6",
                    "radialaxis": {
                      "gridcolor": "white",
                      "linecolor": "white",
                      "ticks": ""
                    }
                  },
                  "scene": {
                    "xaxis": {
                      "backgroundcolor": "#E5ECF6",
                      "gridcolor": "white",
                      "gridwidth": 2,
                      "linecolor": "white",
                      "showbackground": true,
                      "ticks": "",
                      "zerolinecolor": "white"
                    },
                    "yaxis": {
                      "backgroundcolor": "#E5ECF6",
                      "gridcolor": "white",
                      "gridwidth": 2,
                      "linecolor": "white",
                      "showbackground": true,
                      "ticks": "",
                      "zerolinecolor": "white"
                    },
                    "zaxis": {
                      "backgroundcolor": "#E5ECF6",
                      "gridcolor": "white",
                      "gridwidth": 2,
                      "linecolor": "white",
                      "showbackground": true,
                      "ticks": "",
                      "zerolinecolor": "white"
                    }
                  },
                  "shapedefaults": {
                    "line": {
                      "color": "#2a3f5f"
                    }
                  },
                  "ternary": {
                    "aaxis": {
                      "gridcolor": "white",
                      "linecolor": "white",
                      "ticks": ""
                    },
                    "baxis": {
                      "gridcolor": "white",
                      "linecolor": "white",
                      "ticks": ""
                    },
                    "bgcolor": "#E5ECF6",
                    "caxis": {
                      "gridcolor": "white",
                      "linecolor": "white",
                      "ticks": ""
                    }
                  },
                  "title": {
                    "x": 0.05
                  },
                  "xaxis": {
                    "automargin": true,
                    "gridcolor": "white",
                    "linecolor": "white",
                    "ticks": "",
                    "title": {
                      "standoff": 15
                    },
                    "zerolinecolor": "white",
                    "zerolinewidth": 2
                  },
                  "yaxis": {
                    "automargin": true,
                    "gridcolor": "white",
                    "linecolor": "white",
                    "ticks": "",
                    "title": {
                      "standoff": 15
                    },
                    "zerolinecolor": "white",
                    "zerolinewidth": 2
                  }
                }
              },
              "title": {
                "text": "Product P2 in Warehouse W13"
              }
            },
            "_model_module": "plotlywidget",
            "_model_module_version": "^1.4.0",
            "_model_name": "FigureModel",
            "_py2js_addTraces": {},
            "_py2js_animate": {},
            "_py2js_deleteTraces": {},
            "_py2js_moveTraces": {},
            "_py2js_relayout": {},
            "_py2js_removeLayoutProps": {},
            "_py2js_removeTraceProps": {},
            "_py2js_restyle": {},
            "_py2js_update": {},
            "_view_count": 1,
            "_view_module": "plotlywidget",
            "_view_module_version": "^1.4.0",
            "_view_name": "FigureView"
          }
        }
      }
    }
  },
  "cells": [
    {
      "cell_type": "markdown",
      "source": [
        "**MILESTONE:1** Historical Stock Analysis, Visualisation and Insights\n"
      ],
      "metadata": {
        "id": "lpnF_he1k4Ve"
      }
    },
    {
      "cell_type": "markdown",
      "source": [
        "**Data Extraction**\n"
      ],
      "metadata": {
        "id": "3ZGiMeiGk5AF"
      }
    },
    {
      "cell_type": "code",
      "source": [
        "import pandas as pd"
      ],
      "metadata": {
        "id": "A7LhwaGCk9s8"
      },
      "execution_count": 1,
      "outputs": []
    },
    {
      "cell_type": "code",
      "source": [
        "stock_history_df = pd.read_csv(\"/content/stock_history.csv\")\n",
        "order_history_df = pd.read_csv(\"/content/order_history.csv\")\n",
        "safety_stock_data=pd.read_csv(\"/content/safety_stock_levels.csv\")\n",
        "warehouse_information=pd.read_csv(\"/content/warehouse_information.csv\")"
      ],
      "metadata": {
        "id": "dY6n5FU9lFmS"
      },
      "execution_count": 2,
      "outputs": []
    },
    {
      "cell_type": "markdown",
      "source": [
        "**Understock** **Detection**\n"
      ],
      "metadata": {
        "id": "18ZzpZ4xmAWr"
      }
    },
    {
      "cell_type": "markdown",
      "source": [
        "Calculation the number of understock situations in different warehouses by comparing the stock levels of the products with their safety stock levels."
      ],
      "metadata": {
        "id": "7jrkhdNIOhtz"
      }
    },
    {
      "cell_type": "code",
      "source": [
        "safety_stock_levels = safety_stock_data.set_index('product_id')['Safety_stock_level']\n",
        "safety_stock_data = safety_stock_data.drop_duplicates(subset='product_id')\n",
        "Understock = stock_history_df[stock_history_df['stock_level'] < stock_history_df['product_id'].map(safety_stock_levels)]\n",
        "understock_situations = Understock.groupby('warehouse_id').size().reset_index(name='understock_count')\n",
        "understock_situations['warehouse_id'] = pd.Categorical(understock_situations['warehouse_id'], categories=[f'W{i}' for i in range(1, 21)])\n",
        "understock_situations_sorted = understock_situations.sort_values(by='warehouse_id')\n",
        "print(understock_situations_sorted.to_string(index=False))"
      ],
      "metadata": {
        "colab": {
          "base_uri": "https://localhost:8080/"
        },
        "id": "pasYJ4TblPNx",
        "outputId": "dff49ce5-777f-447a-b3c4-24749aefa987"
      },
      "execution_count": 4,
      "outputs": [
        {
          "output_type": "stream",
          "name": "stdout",
          "text": [
            "warehouse_id  understock_count\n",
            "          W1                57\n",
            "          W2                58\n",
            "          W3                47\n",
            "          W4                49\n",
            "          W5                48\n",
            "          W6                51\n",
            "          W7                37\n",
            "          W8                50\n",
            "          W9                51\n",
            "         W10                71\n",
            "         W11                55\n",
            "         W12                37\n",
            "         W13                48\n",
            "         W14                54\n",
            "         W15                68\n",
            "         W16                46\n",
            "         W17                69\n",
            "         W18                42\n",
            "         W19                61\n",
            "         W20                53\n"
          ]
        }
      ]
    },
    {
      "cell_type": "markdown",
      "source": [
        "**Overstock Detection**\n"
      ],
      "metadata": {
        "id": "C7x-yM3ymOpE"
      }
    },
    {
      "cell_type": "markdown",
      "source": [
        "Calculation of the total stock quantity by date and warehouse, and identification of overstock situations where stock exceeds capacity."
      ],
      "metadata": {
        "id": "J8spnxNZO6BG"
      }
    },
    {
      "cell_type": "code",
      "source": [
        "import pandas as pd\n",
        "stock_levels_df=pd.read_csv(\"/content/stock_history.csv\")\n",
        "warehouse_capacities_df=pd.read_csv(\"/content/warehouse_information.csv\")\n",
        "stock_levels_df['date'] = pd.to_datetime(stock_levels_df['date'])\n",
        "grouped = stock_levels_df.groupby(['date', 'warehouse_id'])\n",
        "total_quantity = grouped['stock_level'].sum()\n",
        "merged_df = pd.merge(warehouse_capacities_df,total_quantity , on='warehouse_id')\n",
        "overstock_df = merged_df[merged_df['stock_level'] > merged_df['capacity']]\n",
        "overstock_count_by_warehouse = overstock_df.groupby('warehouse_id').size().reset_index(name='overstock_counts')\n",
        "all_warehouse_ids = ['W{}'.format(i) for i in range(1, 21)]\n",
        "all_warehouses_df = pd.DataFrame({'warehouse_id': all_warehouse_ids})\n",
        "overstock_countsdf = pd.merge(all_warehouses_df, overstock_count_by_warehouse, on='warehouse_id', how='left')\n",
        "overstock_countsdf['overstock_counts'].fillna(0, inplace=True)\n",
        "print(overstock_countsdf[['warehouse_id', 'overstock_counts']].to_string(index=False))"
      ],
      "metadata": {
        "colab": {
          "base_uri": "https://localhost:8080/"
        },
        "id": "dQkXdVlzmPFW",
        "outputId": "12dab01b-fdee-4dbe-982e-03940d408586"
      },
      "execution_count": 5,
      "outputs": [
        {
          "output_type": "stream",
          "name": "stdout",
          "text": [
            "warehouse_id  overstock_counts\n",
            "          W1               0.0\n",
            "          W2               0.0\n",
            "          W3               0.0\n",
            "          W4               0.0\n",
            "          W5               0.0\n",
            "          W6               0.0\n",
            "          W7               0.0\n",
            "          W8               0.0\n",
            "          W9               0.0\n",
            "         W10               0.0\n",
            "         W11               0.0\n",
            "         W12               0.0\n",
            "         W13               0.0\n",
            "         W14               0.0\n",
            "         W15               0.0\n",
            "         W16               0.0\n",
            "         W17               0.0\n",
            "         W18               1.0\n",
            "         W19               0.0\n",
            "         W20               0.0\n"
          ]
        }
      ]
    },
    {
      "cell_type": "markdown",
      "source": [
        "**Out of Stock Detection**"
      ],
      "metadata": {
        "id": "ZJ_62uxRpPid"
      }
    },
    {
      "cell_type": "markdown",
      "source": [
        "Analysis of historical stock and order data to determine the count of times products were out of stock in each warehouse."
      ],
      "metadata": {
        "id": "RP7j1iztPRdq"
      }
    },
    {
      "cell_type": "code",
      "source": [
        "stock_history_df['date'] = pd.to_datetime(stock_history_df['date'])\n",
        "order_history_df['date'] = pd.to_datetime(order_history_df['date'])\n",
        "stock_history_df.sort_values(by=['date', 'warehouse_id', 'product_id'], inplace=True)\n",
        "stock_history_df = stock_history_df.drop_duplicates(subset=['date', 'warehouse_id', 'product_id'], keep='last')\n",
        "merged_df = pd.merge(order_history_df, stock_history_df, on=['date', 'warehouse_id', 'product_id'], how='left')\n",
        "merged_df['is_out_of_stock'] = merged_df['quantity_ordered'] > merged_df['stock_level']\n",
        "out_of_stock_df = merged_df[merged_df['is_out_of_stock']]\n",
        "warehouse_out_of_stock_counts = out_of_stock_df.groupby('warehouse_id').size().reset_index(name='out_of_stock_count')\n",
        "all_warehouse_ids = ['W{}'.format(i) for i in range(1, 21)]\n",
        "all_warehouses_df = pd.DataFrame({'warehouse_id': all_warehouse_ids})\n",
        "out_of_stock_counts = pd.merge(all_warehouses_df, warehouse_out_of_stock_counts, on='warehouse_id', how='left')\n",
        "out_of_stock_counts['out_of_stock_count'].fillna(0, inplace=True)\n",
        "print(out_of_stock_counts[['warehouse_id', 'out_of_stock_count']].to_string(index=False))"
      ],
      "metadata": {
        "colab": {
          "base_uri": "https://localhost:8080/"
        },
        "id": "1OwiaGp_p-P9",
        "outputId": "d12fecc6-882b-40fd-823e-8b590d79f444"
      },
      "execution_count": 6,
      "outputs": [
        {
          "output_type": "stream",
          "name": "stdout",
          "text": [
            "warehouse_id  out_of_stock_count\n",
            "          W1                 2.0\n",
            "          W2                 0.0\n",
            "          W3                 3.0\n",
            "          W4                 0.0\n",
            "          W5                 1.0\n",
            "          W6                 1.0\n",
            "          W7                 0.0\n",
            "          W8                 0.0\n",
            "          W9                 0.0\n",
            "         W10                 1.0\n",
            "         W11                 1.0\n",
            "         W12                 0.0\n",
            "         W13                 1.0\n",
            "         W14                 0.0\n",
            "         W15                 1.0\n",
            "         W16                 0.0\n",
            "         W17                 1.0\n",
            "         W18                 0.0\n",
            "         W19                 1.0\n",
            "         W20                 0.0\n"
          ]
        }
      ]
    },
    {
      "cell_type": "markdown",
      "source": [
        "**Flagged** **Situations**"
      ],
      "metadata": {
        "id": "AvFRayykxv6X"
      }
    },
    {
      "cell_type": "markdown",
      "source": [
        "This code combines counts of overstock, understock, and out-of-stock situations for different warehouses, calculating the total flagged situations for each warehouse."
      ],
      "metadata": {
        "id": "Ukqq5M3yP2SF"
      }
    },
    {
      "cell_type": "code",
      "source": [
        "merged_counts = pd.merge(overstock_countsdf, understock_situations_sorted, on='warehouse_id', how='outer')\n",
        "merged_counts = pd.merge(merged_counts, out_of_stock_counts, on='warehouse_id', how='outer')\n",
        "merged_counts.fillna(0, inplace=True)\n",
        "merged_counts['Flagged_situations'] = merged_counts['overstock_counts'] + merged_counts['understock_count'] + merged_counts['out_of_stock_count']\n",
        "print(merged_counts.to_string(index=False))"
      ],
      "metadata": {
        "colab": {
          "base_uri": "https://localhost:8080/"
        },
        "id": "n6m6QyEHxpdg",
        "outputId": "7d470d84-6f05-4888-8e3e-43f22ab0cf5c"
      },
      "execution_count": 7,
      "outputs": [
        {
          "output_type": "stream",
          "name": "stdout",
          "text": [
            "warehouse_id  overstock_counts  understock_count  out_of_stock_count  Flagged_situations\n",
            "          W1               0.0                57                 2.0                59.0\n",
            "          W2               0.0                58                 0.0                58.0\n",
            "          W3               0.0                47                 3.0                50.0\n",
            "          W4               0.0                49                 0.0                49.0\n",
            "          W5               0.0                48                 1.0                49.0\n",
            "          W6               0.0                51                 1.0                52.0\n",
            "          W7               0.0                37                 0.0                37.0\n",
            "          W8               0.0                50                 0.0                50.0\n",
            "          W9               0.0                51                 0.0                51.0\n",
            "         W10               0.0                71                 1.0                72.0\n",
            "         W11               0.0                55                 1.0                56.0\n",
            "         W12               0.0                37                 0.0                37.0\n",
            "         W13               0.0                48                 1.0                49.0\n",
            "         W14               0.0                54                 0.0                54.0\n",
            "         W15               0.0                68                 1.0                69.0\n",
            "         W16               0.0                46                 0.0                46.0\n",
            "         W17               0.0                69                 1.0                70.0\n",
            "         W18               1.0                42                 0.0                43.0\n",
            "         W19               0.0                61                 1.0                62.0\n",
            "         W20               0.0                53                 0.0                53.0\n"
          ]
        }
      ]
    },
    {
      "cell_type": "markdown",
      "source": [
        "The code below evaluates the correlation coefficients between flagged situations and three varaibles Overstock_count,\n",
        " Understock_count and out_of_stock_counts and then prints the correlation coefficient."
      ],
      "metadata": {
        "id": "B5Gl1W5nyEez"
      }
    },
    {
      "cell_type": "code",
      "source": [
        "correlation_coeff_os=merged_counts['Flagged_situations'].corr(merged_counts['overstock_counts'])\n",
        "correlation_coeff_us=merged_counts['Flagged_situations'].corr(merged_counts['understock_count'])\n",
        "correlation_coeff_ofs=merged_counts['Flagged_situations'].corr(merged_counts['out_of_stock_count'])\n",
        "print(correlation_coeff_os)\n",
        "print(correlation_coeff_us)\n",
        "print(correlation_coeff_ofs)"
      ],
      "metadata": {
        "colab": {
          "base_uri": "https://localhost:8080/"
        },
        "id": "fOqgDG9LyE01",
        "outputId": "b47879e0-9237-4f6b-bdea-f0c106d3030b"
      },
      "execution_count": 8,
      "outputs": [
        {
          "output_type": "stream",
          "name": "stdout",
          "text": [
            "-0.2499006448477867\n",
            "0.9967464684222672\n",
            "0.3611331507224739\n"
          ]
        }
      ]
    },
    {
      "cell_type": "markdown",
      "source": [
        "**Ranking warehouses**\n",
        "The ranking of warehouses is done based on the correlation coefficients. To avoid conflicting ranks\"warehouse capacity\" is considered as the 4th parameter."
      ],
      "metadata": {
        "id": "icsIjFEuyOeu"
      }
    },
    {
      "cell_type": "code",
      "source": [
        "warehouse_ranking_data = pd.merge(warehouse_information, understock_situations_sorted, on='warehouse_id', how='left')\n",
        "warehouse_ranking_data = pd.merge(warehouse_ranking_data, overstock_countsdf, on='warehouse_id', how='left')\n",
        "warehouse_ranking_data = pd.merge(warehouse_ranking_data,out_of_stock_counts, on='warehouse_id', how='left')\n",
        "warehouse_ranking_data.fillna(0, inplace=True)\n",
        "def rank_warehouses(row):\n",
        "    return (\n",
        "        -row['understock_count'],\n",
        "        -row['out_of_stock_count'],\n",
        "        -row['overstock_counts'],\n",
        "        row['capacity']\n",
        "    )\n",
        "warehouse_ranking_data['ranking_score'] = warehouse_ranking_data.apply(rank_warehouses, axis=1)\n",
        "warehouse_ranking_data['rank'] = warehouse_ranking_data['ranking_score'].rank(ascending=False, method='first')\n",
        "warehouse_ranking_data = warehouse_ranking_data.sort_values(by='rank')\n",
        "print(warehouse_ranking_data[['rank','warehouse_id', 'ranking_score']].to_string(index=False))"
      ],
      "metadata": {
        "colab": {
          "base_uri": "https://localhost:8080/"
        },
        "id": "slobtPRtyPWS",
        "outputId": "385deaea-bda3-4e3b-fa21-52d95ed288bf"
      },
      "execution_count": 9,
      "outputs": [
        {
          "output_type": "stream",
          "name": "stdout",
          "text": [
            " rank warehouse_id           ranking_score\n",
            "  1.0          W12 (-37, -0.0, -0.0, 6209)\n",
            "  2.0           W7 (-37, -0.0, -0.0, 5225)\n",
            "  3.0          W18 (-42, -0.0, -1.0, 3322)\n",
            "  4.0          W16 (-46, -0.0, -0.0, 3692)\n",
            "  5.0           W3 (-47, -3.0, -0.0, 3775)\n",
            "  6.0          W13 (-48, -1.0, -0.0, 6637)\n",
            "  7.0           W5 (-48, -1.0, -0.0, 3352)\n",
            "  8.0           W4 (-49, -0.0, -0.0, 5496)\n",
            "  9.0           W8 (-50, -0.0, -0.0, 7984)\n",
            " 10.0           W9 (-51, -0.0, -0.0, 4254)\n",
            " 11.0           W6 (-51, -1.0, -0.0, 5636)\n",
            " 12.0          W20 (-53, -0.0, -0.0, 3214)\n",
            " 13.0          W14 (-54, -0.0, -0.0, 6244)\n",
            " 14.0          W11 (-55, -1.0, -0.0, 3422)\n",
            " 15.0           W1 (-57, -2.0, -0.0, 6669)\n",
            " 16.0           W2 (-58, -0.0, -0.0, 6730)\n",
            " 17.0          W19 (-61, -1.0, -0.0, 7260)\n",
            " 18.0          W15 (-68, -1.0, -0.0, 4460)\n",
            " 19.0          W17 (-69, -1.0, -0.0, 7694)\n",
            " 20.0          W10 (-71, -1.0, -0.0, 6800)\n"
          ]
        }
      ]
    },
    {
      "cell_type": "markdown",
      "source": [
        "**Data Preparation for Visualisations**"
      ],
      "metadata": {
        "id": "Lz52VanZytyN"
      }
    },
    {
      "cell_type": "code",
      "source": [
        "merged_data = pd.merge(stock_history_df,order_history_df, on=['date', 'warehouse_id', 'product_id'], how='outer')\n",
        "merged_data['stock_level'].fillna(0, inplace=True)\n",
        "merged_data['quantity_ordered'].fillna(0, inplace=True)\n",
        "merged_data = merged_data[['date', 'warehouse_id', 'product_id', 'stock_level', 'quantity_ordered']]\n",
        "merged_data.to_csv('output_data.csv', index=False)"
      ],
      "metadata": {
        "id": "2eUOlG-ayuMM"
      },
      "execution_count": 10,
      "outputs": []
    },
    {
      "cell_type": "code",
      "source": [
        "from google.colab import output\n",
        "output.enable_custom_widget_manager()"
      ],
      "metadata": {
        "id": "X47wifkJAM30"
      },
      "execution_count": 17,
      "outputs": []
    },
    {
      "cell_type": "markdown",
      "source": [
        "Support for third party widgets will remain active for the duration of the session. To disable support:"
      ],
      "metadata": {
        "id": "q54vw4ZmAM4B"
      }
    },
    {
      "cell_type": "code",
      "source": [
        "from google.colab import output\n",
        "output.enable_custom_widget_manager()"
      ],
      "metadata": {
        "id": "ceJCZcctASBi"
      },
      "execution_count": 19,
      "outputs": []
    },
    {
      "cell_type": "markdown",
      "source": [
        "**Visualizations**"
      ],
      "metadata": {
        "id": "rhqPfv5qEx7z"
      }
    },
    {
      "cell_type": "markdown",
      "source": [
        "*  The code below facilitates data exploration and visualization.\n",
        "* Plotly library is used to create interactive line charts to visualize stock levels and quantity ordered data for specific products and warehouses."
      ],
      "metadata": {
        "id": "ouNu0Y9ZLAnb"
      }
    },
    {
      "cell_type": "markdown",
      "source": [
        "Additionally it incorporates dropdown menus(widgets) for selecting particular warehouse and product.Moreover it annotates the line charts with understock,overstock and out of stock conditions."
      ],
      "metadata": {
        "id": "959xtKPYMoJW"
      }
    },
    {
      "cell_type": "code",
      "source": [
        "import pandas as pd\n",
        "import plotly.graph_objects as go\n",
        "import ipywidgets as widgets\n",
        "from IPython.display import display\n",
        "data = pd.read_csv('/content/output_data.csv')\n",
        "annotation_data = pd.read_csv('/understock_situations.csv')\n",
        "annotation_data_1 = pd.read_csv('/out_of_stock_situations.csv')\n",
        "annotation_data_2 = pd.read_csv('/OUTPUT1 (1).csv')\n",
        "unique_warehouse_ids = data['warehouse_id'].unique()\n",
        "unique_product_ids = data['product_id'].unique()\n",
        "warehouse_dropdown = widgets.Dropdown(options=unique_warehouse_ids, description='Warehouse ID:')\n",
        "product_dropdown = widgets.Dropdown(options=unique_product_ids, description='Product ID:')\n",
        "def update_graph(warehouse_id, product_id):\n",
        "    filtered_data = data[(data['warehouse_id'] == warehouse_id) & (data['product_id'] == product_id)]\n",
        "    fig = go.Figure()\n",
        "    fig.add_trace(go.Scatter(x=filtered_data['date'], y=filtered_data['stock_level'], mode='markers', name='Stock Level'))\n",
        "    fig.add_trace(go.Scatter(x=filtered_data['date'], y=filtered_data['quantity_ordered'], mode='markers', name='Quantity Ordered'))\n",
        "    for index, row in annotation_data.iterrows():\n",
        "        specific_date = row['date']\n",
        "        specific_warehouse_id = row['warehouse_id']\n",
        "        specific_product_id = row['product_id']\n",
        "        if specific_warehouse_id == warehouse_id and specific_product_id == product_id:\n",
        "            fig.add_annotation(x=specific_date, y=filtered_data[(filtered_data['date'] == specific_date)]['stock_level'].values[0],\n",
        "                               text=\"Under_stock\", showarrow=True, arrowhead=1)\n",
        "    for index, row in annotation_data_1.iterrows():\n",
        "        specific_date = row['date']\n",
        "        specific_warehouse_id = row['warehouse_id']\n",
        "        specific_product_id = row['product_id']\n",
        "        if specific_warehouse_id == warehouse_id and specific_product_id == product_id:\n",
        "            y_offset = 20\n",
        "            x_offset = 20\n",
        "            fig.add_annotation(x=specific_date, y=filtered_data[(filtered_data['date'] == specific_date)]['stock_level'].values[0]+ y_offset+x_offset,\n",
        "                               text=\"Out_of_stock\", showarrow=True, arrowhead=1)\n",
        "    for index, row in annotation_data_2.iterrows():\n",
        "        specific_date = row['date']\n",
        "        specific_warehouse_id = row['warehouse_id']\n",
        "        specific_product_id = row['product_id']\n",
        "        if specific_warehouse_id == warehouse_id and specific_product_id == product_id:\n",
        "            y_offset = 20\n",
        "            x_offset = -20\n",
        "            fig.add_annotation(x=specific_date, y=filtered_data[(filtered_data['date'] == specific_date)]['stock_level'].values[0]+ y_offset+x_offset,\n",
        "                               text=\"Overstock\", showarrow=True, arrowhead=1)\n",
        "    fig.update_layout(title=f\"Product {product_id} in Warehouse {warehouse_id}\")\n",
        "    display(go.FigureWidget(fig))\n",
        "def on_change(change):\n",
        "    if change['type'] == 'change' and change['name'] == 'value':\n",
        "        update_graph(warehouse_dropdown.value, product_dropdown.value)\n",
        "display(warehouse_dropdown)\n",
        "display(product_dropdown)\n",
        "update_graph(warehouse_dropdown.value, product_dropdown.value)\n",
        "warehouse_dropdown.observe(on_change)\n",
        "product_dropdown.observe(on_change)\n"
      ],
      "metadata": {
        "colab": {
          "base_uri": "https://localhost:8080/",
          "height": 1000,
          "referenced_widgets": [
            "8fe6364d9f2f4644b9c8019510735a74",
            "9efcf4078db34cf096ed6b368b4834d7",
            "3edf1ab237c14d399d57dc51c6a6d9be",
            "f64ea1d276834a92a7667ccd51a84893",
            "af4a587ee6624dc783db6d1145d845a0",
            "7892d16dc1e446d0aca41efb02595ca7",
            "7818a2b3e1704f2c855c7acfcac91189",
            "7968514e3bca42b7b2aa0efaf21b3910",
            "212dfd2712034919a0a3c1bf5e9e673a",
            "2ef2156804e84f6ab29022b1c22b1135",
            "1d88cb7b9b214312b8751a5e89d41782"
          ]
        },
        "id": "rAFcK8REBI89",
        "outputId": "1888d9b3-6c0b-462a-a067-ca8a255da527"
      },
      "execution_count": 23,
      "outputs": [
        {
          "output_type": "display_data",
          "data": {
            "text/plain": [
              "Dropdown(description='Warehouse ID:', options=('W1', 'W16', 'W3', 'W11', 'W13', 'W14', 'W15', 'W2', 'W20', 'W4…"
            ],
            "application/vnd.jupyter.widget-view+json": {
              "version_major": 2,
              "version_minor": 0,
              "model_id": "8fe6364d9f2f4644b9c8019510735a74"
            }
          },
          "metadata": {
            "application/vnd.jupyter.widget-view+json": {
              "colab": {
                "custom_widget_manager": {
                  "url": "https://ssl.gstatic.com/colaboratory-static/widgets/colab-cdn-widget-manager/b3e629b1971e1542/manager.min.js"
                }
              }
            }
          }
        },
        {
          "output_type": "display_data",
          "data": {
            "text/plain": [
              "Dropdown(description='Product ID:', options=('P10', 'P15', 'P6', 'P18', 'P13', 'P19', 'P9', 'P2', 'P16', 'P17'…"
            ],
            "application/vnd.jupyter.widget-view+json": {
              "version_major": 2,
              "version_minor": 0,
              "model_id": "f64ea1d276834a92a7667ccd51a84893"
            }
          },
          "metadata": {
            "application/vnd.jupyter.widget-view+json": {
              "colab": {
                "custom_widget_manager": {
                  "url": "https://ssl.gstatic.com/colaboratory-static/widgets/colab-cdn-widget-manager/b3e629b1971e1542/manager.min.js"
                }
              }
            }
          }
        },
        {
          "output_type": "display_data",
          "data": {
            "text/plain": [
              "FigureWidget({\n",
              "    'data': [{'mode': 'markers',\n",
              "              'name': 'Stock Level',\n",
              "              'type': 'sc…"
            ],
            "application/vnd.jupyter.widget-view+json": {
              "version_major": 2,
              "version_minor": 0,
              "model_id": "7818a2b3e1704f2c855c7acfcac91189"
            }
          },
          "metadata": {
            "application/vnd.jupyter.widget-view+json": {
              "colab": {
                "custom_widget_manager": {
                  "url": "https://ssl.gstatic.com/colaboratory-static/widgets/colab-cdn-widget-manager/b3e629b1971e1542/manager.min.js"
                }
              }
            }
          }
        },
        {
          "output_type": "display_data",
          "data": {
            "text/plain": [
              "FigureWidget({\n",
              "    'data': [{'mode': 'markers',\n",
              "              'name': 'Stock Level',\n",
              "              'type': 'sc…"
            ],
            "application/vnd.jupyter.widget-view+json": {
              "version_major": 2,
              "version_minor": 0,
              "model_id": "7968514e3bca42b7b2aa0efaf21b3910"
            }
          },
          "metadata": {
            "application/vnd.jupyter.widget-view+json": {
              "colab": {
                "custom_widget_manager": {
                  "url": "https://ssl.gstatic.com/colaboratory-static/widgets/colab-cdn-widget-manager/b3e629b1971e1542/manager.min.js"
                }
              }
            }
          }
        },
        {
          "output_type": "display_data",
          "data": {
            "text/plain": [
              "FigureWidget({\n",
              "    'data': [{'mode': 'markers',\n",
              "              'name': 'Stock Level',\n",
              "              'type': 'sc…"
            ],
            "application/vnd.jupyter.widget-view+json": {
              "version_major": 2,
              "version_minor": 0,
              "model_id": "212dfd2712034919a0a3c1bf5e9e673a"
            }
          },
          "metadata": {
            "application/vnd.jupyter.widget-view+json": {
              "colab": {
                "custom_widget_manager": {
                  "url": "https://ssl.gstatic.com/colaboratory-static/widgets/colab-cdn-widget-manager/b3e629b1971e1542/manager.min.js"
                }
              }
            }
          }
        },
        {
          "output_type": "display_data",
          "data": {
            "text/plain": [
              "FigureWidget({\n",
              "    'data': [{'mode': 'markers',\n",
              "              'name': 'Stock Level',\n",
              "              'type': 'sc…"
            ],
            "application/vnd.jupyter.widget-view+json": {
              "version_major": 2,
              "version_minor": 0,
              "model_id": "2ef2156804e84f6ab29022b1c22b1135"
            }
          },
          "metadata": {
            "application/vnd.jupyter.widget-view+json": {
              "colab": {
                "custom_widget_manager": {
                  "url": "https://ssl.gstatic.com/colaboratory-static/widgets/colab-cdn-widget-manager/b3e629b1971e1542/manager.min.js"
                }
              }
            }
          }
        },
        {
          "output_type": "display_data",
          "data": {
            "text/plain": [
              "FigureWidget({\n",
              "    'data': [{'mode': 'markers',\n",
              "              'name': 'Stock Level',\n",
              "              'type': 'sc…"
            ],
            "application/vnd.jupyter.widget-view+json": {
              "version_major": 2,
              "version_minor": 0,
              "model_id": "1d88cb7b9b214312b8751a5e89d41782"
            }
          },
          "metadata": {
            "application/vnd.jupyter.widget-view+json": {
              "colab": {
                "custom_widget_manager": {
                  "url": "https://ssl.gstatic.com/colaboratory-static/widgets/colab-cdn-widget-manager/b3e629b1971e1542/manager.min.js"
                }
              }
            }
          }
        }
      ]
    },
    {
      "cell_type": "markdown",
      "source": [
        "Support for third party widgets will remain active for the duration of the session. To disable support:"
      ],
      "metadata": {
        "id": "WFf-1r5XASBw"
      }
    },
    {
      "cell_type": "code",
      "source": [
        "from google.colab import output\n",
        "output.disable_custom_widget_manager()"
      ],
      "metadata": {
        "id": "unErzmi2ASBw"
      },
      "execution_count": null,
      "outputs": []
    }
  ]
}